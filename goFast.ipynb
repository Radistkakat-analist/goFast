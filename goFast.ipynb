{
 "cells": [
  {
   "cell_type": "markdown",
   "id": "90eabacc",
   "metadata": {},
   "source": [
    "# Цели и задачи исследования\n",
    "\n",
    "Нам предоставлены данные сервиса аренды самокатов GoFast.  \n",
    "Наша задача проанализировать имеющиеся данные и проверить несколько гипотез, которые помогут бизнесу вырасти.   \n",
    "\n",
    "Чтобы совершать поездки по городу, пользователи сервиса GoFast пользуются мобильным приложением. Сервисом можно пользоваться:    \n",
    "* без подписки    \n",
    "    * абонентская плата отсутствует;    \n",
    "    * стоимость одной минуты поездки — 8 рублей;    \n",
    "    * стоимость старта (начала поездки) — 50 рублей;    \n",
    "* с подпиской Ultra    \n",
    "    * абонентская плата — 199 рублей в месяц;    \n",
    "    * стоимость одной минуты поездки — 6 рублей;    \n",
    "    * стоимость старта — бесплатно.  \n",
    "\n",
    "1. Первый этап - исследование данных.  \n",
    "    1) При необходимости исправим аномалии (пропуски, дубликаты).  \n",
    "    2) Опишем и визуализируем следующую информацию о поездках:  \n",
    "        1 частота встречаемости городов;  \n",
    "        2 соотношение пользователей с подпиской и без подписки;  \n",
    "        3 возраст пользователей;  \n",
    "        4 расстояние, которое пользователь преодолел за одну поездку;  \n",
    "        5 продолжительность поездок;  \n",
    "        6 информацию о расстоянии и времени поездок для пользователей с подпиской/без подиски;  \n",
    "        7 по каждому пользователю вывести суммарное расстояние, количество поездок, суммарное время для каждого пользователя за каждый месяц и суммарную выручку, которую принес каждый пользователь.\n",
    "        \n",
    "2. Проверим гипотезы, которые должны помочь принять решение об увеличение числа клиентов с подпиской:  \n",
    "    1) Тратят ли пользователи с подпиской больше времени на поездки? Если да, то пользователи с подпиской могут быть «выгоднее» для компании.     \n",
    "    2) Расстояние одной поездки в 3130 метров — оптимальное с точки зрения износа самоката. Можно ли сказать, что среднее расстояние, которое проезжают пользователи с подпиской за одну поездку, не превышает 3130 метров?   \n",
    "    3) Будет ли помесячная выручка от пользователей с подпиской по месяцам выше, чем выручка от пользователей без подписки.     \n",
    "3. Сформулируем общий вывод.\n",
    " "
   ]
  },
  {
   "cell_type": "code",
   "execution_count": 23,
   "id": "72576667",
   "metadata": {},
   "outputs": [],
   "source": [
    "# импортируем нужные библиотеки\n",
    "import warnings \n",
    "warnings.filterwarnings('ignore')\n",
    "import pandas as pd\n",
    "import numpy as np\n",
    "import matplotlib.pyplot as plt\n",
    "import seaborn as sns\n",
    "from scipy import stats as st\n",
    "import math"
   ]
  },
  {
   "cell_type": "code",
   "execution_count": 24,
   "id": "105afffe",
   "metadata": {},
   "outputs": [],
   "source": [
    "class color: #классы для комфортного вывода текста\n",
    "    PURPLE = '\\033[95m'\n",
    "    CYAN = '\\033[96m'\n",
    "    DARKCYAN = '\\033[36m'\n",
    "    BLUE = '\\033[94m'\n",
    "    GREEN = '\\033[92m'\n",
    "    YELLOW = '\\033[93m'\n",
    "    RED = '\\033[91m'\n",
    "    BOLD = '\\033[1m'\n",
    "    UNDERLINE = '\\033[4m'\n",
    "    END = '\\033[0m'\n"
   ]
  },
  {
   "cell_type": "markdown",
   "id": "c42cbe00",
   "metadata": {},
   "source": [
    "## Шаг 1. Загрузка данных"
   ]
  },
  {
   "cell_type": "markdown",
   "id": "97c6dab3",
   "metadata": {},
   "source": [
    "Выгрузим датасеты и ознакомимся с информацией по ним."
   ]
  },
  {
   "cell_type": "markdown",
   "id": "e6bcc289",
   "metadata": {},
   "source": [
    "##### Данные о пользователях"
   ]
  },
  {
   "cell_type": "code",
   "execution_count": 25,
   "id": "eff9f206",
   "metadata": {},
   "outputs": [
    {
     "name": "stdout",
     "output_type": "stream",
     "text": [
      "\u001b[1mПример данных\u001b[0m\n"
     ]
    },
    {
     "data": {
      "text/html": [
       "<div>\n",
       "<style scoped>\n",
       "    .dataframe tbody tr th:only-of-type {\n",
       "        vertical-align: middle;\n",
       "    }\n",
       "\n",
       "    .dataframe tbody tr th {\n",
       "        vertical-align: top;\n",
       "    }\n",
       "\n",
       "    .dataframe thead th {\n",
       "        text-align: right;\n",
       "    }\n",
       "</style>\n",
       "<table border=\"1\" class=\"dataframe\">\n",
       "  <thead>\n",
       "    <tr style=\"text-align: right;\">\n",
       "      <th></th>\n",
       "      <th>user_id</th>\n",
       "      <th>name</th>\n",
       "      <th>age</th>\n",
       "      <th>city</th>\n",
       "      <th>subscription_type</th>\n",
       "    </tr>\n",
       "  </thead>\n",
       "  <tbody>\n",
       "    <tr>\n",
       "      <th>1248</th>\n",
       "      <td>1249</td>\n",
       "      <td>Амалия</td>\n",
       "      <td>28</td>\n",
       "      <td>Тюмень</td>\n",
       "      <td>free</td>\n",
       "    </tr>\n",
       "    <tr>\n",
       "      <th>1516</th>\n",
       "      <td>1517</td>\n",
       "      <td>Давид</td>\n",
       "      <td>25</td>\n",
       "      <td>Тюмень</td>\n",
       "      <td>free</td>\n",
       "    </tr>\n",
       "    <tr>\n",
       "      <th>866</th>\n",
       "      <td>867</td>\n",
       "      <td>Леонид</td>\n",
       "      <td>24</td>\n",
       "      <td>Ростов-на-Дону</td>\n",
       "      <td>free</td>\n",
       "    </tr>\n",
       "    <tr>\n",
       "      <th>681</th>\n",
       "      <td>682</td>\n",
       "      <td>Евгения</td>\n",
       "      <td>23</td>\n",
       "      <td>Сочи</td>\n",
       "      <td>ultra</td>\n",
       "    </tr>\n",
       "    <tr>\n",
       "      <th>996</th>\n",
       "      <td>997</td>\n",
       "      <td>Святогор</td>\n",
       "      <td>23</td>\n",
       "      <td>Сочи</td>\n",
       "      <td>free</td>\n",
       "    </tr>\n",
       "  </tbody>\n",
       "</table>\n",
       "</div>"
      ],
      "text/plain": [
       "      user_id      name  age            city subscription_type\n",
       "1248     1249    Амалия   28          Тюмень              free\n",
       "1516     1517     Давид   25          Тюмень              free\n",
       "866       867    Леонид   24  Ростов-на-Дону              free\n",
       "681       682   Евгения   23            Сочи             ultra\n",
       "996       997  Святогор   23            Сочи              free"
      ]
     },
     "metadata": {},
     "output_type": "display_data"
    },
    {
     "name": "stdout",
     "output_type": "stream",
     "text": [
      "\u001b[1m\n",
      "Общая информация о данных\n",
      "\u001b[0m\n",
      "<class 'pandas.core.frame.DataFrame'>\n",
      "RangeIndex: 1565 entries, 0 to 1564\n",
      "Data columns (total 5 columns):\n",
      " #   Column             Non-Null Count  Dtype \n",
      "---  ------             --------------  ----- \n",
      " 0   user_id            1565 non-null   int64 \n",
      " 1   name               1565 non-null   object\n",
      " 2   age                1565 non-null   int64 \n",
      " 3   city               1565 non-null   object\n",
      " 4   subscription_type  1565 non-null   object\n",
      "dtypes: int64(2), object(3)\n",
      "memory usage: 61.3+ KB\n",
      "\u001b[1m\n",
      "Количество дубликатов\u001b[0m\n"
     ]
    },
    {
     "data": {
      "text/plain": [
       "31"
      ]
     },
     "execution_count": 25,
     "metadata": {},
     "output_type": "execute_result"
    }
   ],
   "source": [
    "#первая таблица users_go\n",
    "users = pd.read_csv('users_go.csv')\n",
    "print(color.BOLD + 'Пример данных' + color.END) # жирный шрифт, чтобы можно было комфортно разлечить блоки\n",
    "display(users.sample(5))\n",
    "print(color.BOLD + '\\nОбщая информация о данных\\n' + color.END)\n",
    "users.info()\n",
    "print(color.BOLD + '\\nКоличество дубликатов' + color.END)\n",
    "users.duplicated().sum()"
   ]
  },
  {
   "cell_type": "markdown",
   "id": "9b45eea9",
   "metadata": {},
   "source": [
    "В данной таблице мы видим следующие данные:  \n",
    "\n",
    "_user_id_\tуникальный идентификатор пользователя  \n",
    "_name_\tимя пользователя  \n",
    "_age_\tвозраст  \n",
    "_city_\tгород  \n",
    "_subscription_type_\tтип подписки (free, ultra)  \n",
    "\n",
    "Данных о пользователях не много, с ними будет комфортно работать.  \n",
    "Пропусков нет.  \n",
    "В датасете 31 полный дубликат, что некорректно как минимум потому, что _user_id_ должен содержать Уникальный идентификатор.  \n",
    "Скорее всего, какая-то ошибка выгрузки.  \n",
    "Доля дубликатов меньше 2%, можем спокойно их удалить.  "
   ]
  },
  {
   "cell_type": "code",
   "execution_count": 52,
   "id": "6bc93bee",
   "metadata": {},
   "outputs": [
    {
     "name": "stdout",
     "output_type": "stream",
     "text": [
      "<class 'pandas.core.frame.DataFrame'>\n",
      "RangeIndex: 1534 entries, 0 to 1533\n",
      "Data columns (total 5 columns):\n",
      " #   Column             Non-Null Count  Dtype \n",
      "---  ------             --------------  ----- \n",
      " 0   user_id            1534 non-null   int64 \n",
      " 1   name               1534 non-null   object\n",
      " 2   age                1534 non-null   int64 \n",
      " 3   city               1534 non-null   object\n",
      " 4   subscription_type  1534 non-null   object\n",
      "dtypes: int64(2), object(3)\n",
      "memory usage: 60.0+ KB\n"
     ]
    }
   ],
   "source": [
    "users = users.drop_duplicates().reset_index(drop=True) \n",
    "#удаляем полные дубликаты\n",
    "users.info()"
   ]
  },
  {
   "cell_type": "markdown",
   "id": "048bde37",
   "metadata": {},
   "source": [
    "##### Данные о поездках"
   ]
  },
  {
   "cell_type": "code",
   "execution_count": 27,
   "id": "61d8b863",
   "metadata": {},
   "outputs": [
    {
     "name": "stdout",
     "output_type": "stream",
     "text": [
      "\u001b[1mПример данных\u001b[0m\n"
     ]
    },
    {
     "data": {
      "text/html": [
       "<div>\n",
       "<style scoped>\n",
       "    .dataframe tbody tr th:only-of-type {\n",
       "        vertical-align: middle;\n",
       "    }\n",
       "\n",
       "    .dataframe tbody tr th {\n",
       "        vertical-align: top;\n",
       "    }\n",
       "\n",
       "    .dataframe thead th {\n",
       "        text-align: right;\n",
       "    }\n",
       "</style>\n",
       "<table border=\"1\" class=\"dataframe\">\n",
       "  <thead>\n",
       "    <tr style=\"text-align: right;\">\n",
       "      <th></th>\n",
       "      <th>user_id</th>\n",
       "      <th>distance</th>\n",
       "      <th>duration</th>\n",
       "      <th>date</th>\n",
       "    </tr>\n",
       "  </thead>\n",
       "  <tbody>\n",
       "    <tr>\n",
       "      <th>4104</th>\n",
       "      <td>442</td>\n",
       "      <td>4470.269288</td>\n",
       "      <td>26.158297</td>\n",
       "      <td>2021-11-14</td>\n",
       "    </tr>\n",
       "    <tr>\n",
       "      <th>5984</th>\n",
       "      <td>640</td>\n",
       "      <td>2883.122029</td>\n",
       "      <td>13.207805</td>\n",
       "      <td>2021-05-14</td>\n",
       "    </tr>\n",
       "    <tr>\n",
       "      <th>13124</th>\n",
       "      <td>1184</td>\n",
       "      <td>2107.073749</td>\n",
       "      <td>11.020211</td>\n",
       "      <td>2021-10-09</td>\n",
       "    </tr>\n",
       "    <tr>\n",
       "      <th>14369</th>\n",
       "      <td>1270</td>\n",
       "      <td>1896.799919</td>\n",
       "      <td>18.754461</td>\n",
       "      <td>2021-03-08</td>\n",
       "    </tr>\n",
       "    <tr>\n",
       "      <th>5107</th>\n",
       "      <td>549</td>\n",
       "      <td>3393.540358</td>\n",
       "      <td>21.510220</td>\n",
       "      <td>2021-06-03</td>\n",
       "    </tr>\n",
       "  </tbody>\n",
       "</table>\n",
       "</div>"
      ],
      "text/plain": [
       "       user_id     distance   duration        date\n",
       "4104       442  4470.269288  26.158297  2021-11-14\n",
       "5984       640  2883.122029  13.207805  2021-05-14\n",
       "13124     1184  2107.073749  11.020211  2021-10-09\n",
       "14369     1270  1896.799919  18.754461  2021-03-08\n",
       "5107       549  3393.540358  21.510220  2021-06-03"
      ]
     },
     "metadata": {},
     "output_type": "display_data"
    },
    {
     "name": "stdout",
     "output_type": "stream",
     "text": [
      "\u001b[1m\n",
      "Общая информация о данных\n",
      "\u001b[0m\n",
      "<class 'pandas.core.frame.DataFrame'>\n",
      "RangeIndex: 18068 entries, 0 to 18067\n",
      "Data columns (total 4 columns):\n",
      " #   Column    Non-Null Count  Dtype  \n",
      "---  ------    --------------  -----  \n",
      " 0   user_id   18068 non-null  int64  \n",
      " 1   distance  18068 non-null  float64\n",
      " 2   duration  18068 non-null  float64\n",
      " 3   date      18068 non-null  object \n",
      "dtypes: float64(2), int64(1), object(1)\n",
      "memory usage: 564.8+ KB\n",
      "\u001b[1m\n",
      "Количество дубликатов\u001b[0m\n"
     ]
    },
    {
     "data": {
      "text/plain": [
       "0"
      ]
     },
     "execution_count": 27,
     "metadata": {},
     "output_type": "execute_result"
    }
   ],
   "source": [
    "#таблица rides_go\n",
    "rides = pd.read_csv('rides_go.csv')\n",
    "print(color.BOLD + 'Пример данных' + color.END) # жирный шрифт, чтобы можно было комфортно разлечить блоки\n",
    "display(rides.sample(5))\n",
    "print(color.BOLD + '\\nОбщая информация о данных\\n' + color.END)\n",
    "rides.info()\n",
    "print(color.BOLD + '\\nКоличество дубликатов' + color.END)\n",
    "rides.duplicated().sum()"
   ]
  },
  {
   "cell_type": "markdown",
   "id": "f6a5ae89",
   "metadata": {},
   "source": [
    "Датасет содержит информацию о поездках:  \n",
    "_user_id_\tуникальный идентификатор пользователя  \n",
    "_distance_\tрасстояние, которое пользователь проехал в текущей сессии (в метрах)  \n",
    "_duration_\tпродолжительность сессии (в минутах) — время с того момента, как пользователь нажал кнопку «Начать поездку» до момента, как он нажал кнопку «Завершить поездку»  \n",
    "_date_\tдата совершения поездки  \n",
    "\n",
    "Пропусков нет, дубликатов нет."
   ]
  },
  {
   "cell_type": "markdown",
   "id": "3fb0f14e",
   "metadata": {},
   "source": [
    "##### Данные о поподписках"
   ]
  },
  {
   "cell_type": "code",
   "execution_count": 28,
   "id": "723a87f3",
   "metadata": {
    "scrolled": true
   },
   "outputs": [
    {
     "name": "stdout",
     "output_type": "stream",
     "text": [
      "\u001b[1mТаблица\u001b[0m\n"
     ]
    },
    {
     "data": {
      "text/html": [
       "<div>\n",
       "<style scoped>\n",
       "    .dataframe tbody tr th:only-of-type {\n",
       "        vertical-align: middle;\n",
       "    }\n",
       "\n",
       "    .dataframe tbody tr th {\n",
       "        vertical-align: top;\n",
       "    }\n",
       "\n",
       "    .dataframe thead th {\n",
       "        text-align: right;\n",
       "    }\n",
       "</style>\n",
       "<table border=\"1\" class=\"dataframe\">\n",
       "  <thead>\n",
       "    <tr style=\"text-align: right;\">\n",
       "      <th></th>\n",
       "      <th>subscription_type</th>\n",
       "      <th>minute_price</th>\n",
       "      <th>start_ride_price</th>\n",
       "      <th>subscription_fee</th>\n",
       "    </tr>\n",
       "  </thead>\n",
       "  <tbody>\n",
       "    <tr>\n",
       "      <th>0</th>\n",
       "      <td>free</td>\n",
       "      <td>8</td>\n",
       "      <td>50</td>\n",
       "      <td>0</td>\n",
       "    </tr>\n",
       "    <tr>\n",
       "      <th>1</th>\n",
       "      <td>ultra</td>\n",
       "      <td>6</td>\n",
       "      <td>0</td>\n",
       "      <td>199</td>\n",
       "    </tr>\n",
       "  </tbody>\n",
       "</table>\n",
       "</div>"
      ],
      "text/plain": [
       "  subscription_type  minute_price  start_ride_price  subscription_fee\n",
       "0              free             8                50                 0\n",
       "1             ultra             6                 0               199"
      ]
     },
     "execution_count": 28,
     "metadata": {},
     "output_type": "execute_result"
    }
   ],
   "source": [
    "sub = pd.read_csv('subscriptions_go.csv')\n",
    "print(color.BOLD + 'Таблица' + color.END)\n",
    "sub"
   ]
  },
  {
   "cell_type": "markdown",
   "id": "a529b57f",
   "metadata": {},
   "source": [
    "Информация о видах подписок:  \n",
    "_subscription_type_\tтип подписки  \n",
    "_minute_price_\tстоимость одной минуты поездки по данной подписке  \n",
    "_start_ride_price_\tстоимость начала поездки  \n",
    "_subscription_fee_\tстоимость ежемесячного платежа  \n"
   ]
  },
  {
   "cell_type": "markdown",
   "id": "e95ebca7",
   "metadata": {},
   "source": [
    "## Шаг 2. Предобработка данных"
   ]
  },
  {
   "cell_type": "markdown",
   "id": "a108cebd",
   "metadata": {},
   "source": [
    "Пропуски и полные явные дубликаты мы уже проверили выше.  \n",
    "Стоит еще проверить столбец с названием города в таблице о пользователях на неявные дубликаты."
   ]
  },
  {
   "cell_type": "code",
   "execution_count": 29,
   "id": "1a5d64a4",
   "metadata": {},
   "outputs": [
    {
     "data": {
      "text/plain": [
       "array(['Тюмень', 'Омск', 'Москва', 'Ростов-на-Дону', 'Краснодар',\n",
       "       'Пятигорск', 'Екатеринбург', 'Сочи'], dtype=object)"
      ]
     },
     "execution_count": 29,
     "metadata": {},
     "output_type": "execute_result"
    }
   ],
   "source": [
    "users['city'].unique()"
   ]
  },
  {
   "cell_type": "markdown",
   "id": "6035cc8f",
   "metadata": {},
   "source": [
    "Отлично, здесь тоже всё в порядке."
   ]
  },
  {
   "cell_type": "markdown",
   "id": "f6bee3b3",
   "metadata": {},
   "source": [
    "##### Проведем преобразования столбцов"
   ]
  },
  {
   "cell_type": "markdown",
   "id": "de2c0942",
   "metadata": {},
   "source": [
    "Столбец с врменем пездки в минутах округлим вверх и приведем к целочисленному типу данных, т.к. стоимость поздки считается за целые минуты"
   ]
  },
  {
   "cell_type": "code",
   "execution_count": 53,
   "id": "bc88bb1f",
   "metadata": {},
   "outputs": [],
   "source": [
    "rides['duration'] = np.ceil(rides['duration']).astype(int)"
   ]
  },
  {
   "cell_type": "markdown",
   "id": "489264ab",
   "metadata": {},
   "source": [
    "В колонке с датой в таблице о поездках тип данных object, приведем его к правильному типу date. "
   ]
  },
  {
   "cell_type": "code",
   "execution_count": 54,
   "id": "6d4ea6d5",
   "metadata": {},
   "outputs": [],
   "source": [
    "rides['date'] = pd.to_datetime(rides['date'], format = '%Y-%m-%d')"
   ]
  },
  {
   "cell_type": "code",
   "execution_count": 55,
   "id": "0b8f8978",
   "metadata": {},
   "outputs": [
    {
     "data": {
      "text/html": [
       "<div>\n",
       "<style scoped>\n",
       "    .dataframe tbody tr th:only-of-type {\n",
       "        vertical-align: middle;\n",
       "    }\n",
       "\n",
       "    .dataframe tbody tr th {\n",
       "        vertical-align: top;\n",
       "    }\n",
       "\n",
       "    .dataframe thead th {\n",
       "        text-align: right;\n",
       "    }\n",
       "</style>\n",
       "<table border=\"1\" class=\"dataframe\">\n",
       "  <thead>\n",
       "    <tr style=\"text-align: right;\">\n",
       "      <th></th>\n",
       "      <th>user_id</th>\n",
       "      <th>distance</th>\n",
       "      <th>duration</th>\n",
       "      <th>date</th>\n",
       "      <th>month</th>\n",
       "    </tr>\n",
       "  </thead>\n",
       "  <tbody>\n",
       "    <tr>\n",
       "      <th>2397</th>\n",
       "      <td>255</td>\n",
       "      <td>3157.768964</td>\n",
       "      <td>24</td>\n",
       "      <td>2021-05-05</td>\n",
       "      <td>5</td>\n",
       "    </tr>\n",
       "    <tr>\n",
       "      <th>8125</th>\n",
       "      <td>820</td>\n",
       "      <td>3856.985889</td>\n",
       "      <td>22</td>\n",
       "      <td>2021-03-29</td>\n",
       "      <td>3</td>\n",
       "    </tr>\n",
       "    <tr>\n",
       "      <th>13580</th>\n",
       "      <td>1216</td>\n",
       "      <td>3060.445529</td>\n",
       "      <td>26</td>\n",
       "      <td>2021-02-16</td>\n",
       "      <td>2</td>\n",
       "    </tr>\n",
       "    <tr>\n",
       "      <th>978</th>\n",
       "      <td>104</td>\n",
       "      <td>2846.295437</td>\n",
       "      <td>19</td>\n",
       "      <td>2021-06-28</td>\n",
       "      <td>6</td>\n",
       "    </tr>\n",
       "    <tr>\n",
       "      <th>11934</th>\n",
       "      <td>1097</td>\n",
       "      <td>3287.105906</td>\n",
       "      <td>23</td>\n",
       "      <td>2021-02-03</td>\n",
       "      <td>2</td>\n",
       "    </tr>\n",
       "  </tbody>\n",
       "</table>\n",
       "</div>"
      ],
      "text/plain": [
       "       user_id     distance  duration       date  month\n",
       "2397       255  3157.768964        24 2021-05-05      5\n",
       "8125       820  3856.985889        22 2021-03-29      3\n",
       "13580     1216  3060.445529        26 2021-02-16      2\n",
       "978        104  2846.295437        19 2021-06-28      6\n",
       "11934     1097  3287.105906        23 2021-02-03      2"
      ]
     },
     "execution_count": 55,
     "metadata": {},
     "output_type": "execute_result"
    }
   ],
   "source": [
    "rides.sample(5) # проверим проведенные изменения"
   ]
  },
  {
   "cell_type": "markdown",
   "id": "4799e718",
   "metadata": {},
   "source": [
    "##### Добавим столбец с месяцем"
   ]
  },
  {
   "cell_type": "markdown",
   "id": "6a55101e",
   "metadata": {},
   "source": [
    "На этапе исследования нам понадобится столбец с номером месяца.  \n",
    "Прежде, чем его добавить, посмотрим, за какие годы представлены данные, чтобы не получилось, что у нас не окажутся разные годы в одних и тех же месяцах."
   ]
  },
  {
   "cell_type": "code",
   "execution_count": 56,
   "id": "673bcea4",
   "metadata": {},
   "outputs": [
    {
     "data": {
      "text/plain": [
       "array([2021])"
      ]
     },
     "execution_count": 56,
     "metadata": {},
     "output_type": "execute_result"
    }
   ],
   "source": [
    "rides['date'].dt.year.unique()"
   ]
  },
  {
   "cell_type": "markdown",
   "id": "f67b5e47",
   "metadata": {},
   "source": [
    "Год всего один, можем добавить столбец с месяцами."
   ]
  },
  {
   "cell_type": "code",
   "execution_count": 57,
   "id": "2e23301b",
   "metadata": {},
   "outputs": [
    {
     "data": {
      "text/plain": [
       "[1, 2, 3, 4, 5, 6, 7, 8, 9, 10, 11, 12]"
      ]
     },
     "execution_count": 57,
     "metadata": {},
     "output_type": "execute_result"
    }
   ],
   "source": [
    "rides['month'] = rides['date'].dt.month\n",
    "sorted(rides['month'].unique())"
   ]
  },
  {
   "cell_type": "markdown",
   "id": "f95ebb39",
   "metadata": {},
   "source": [
    "Мы узнали, что информация о поездках у нас есть за все месяцы 2021г."
   ]
  },
  {
   "cell_type": "markdown",
   "id": "7d853ca0",
   "metadata": {},
   "source": [
    "**Вывод**\n",
    "\n",
    "Мы ознакомились с данными и провели небольшую предобработку:  \n",
    " 1. Мы имеем информацию о 1534 пользователях сервиса GoFast  \n",
    " 2. Информация собрана по 8 городам (Тюмень, Омск, Москва, Ростов-на-Дону, Краснодар,\n",
    "       Пятигорск, Екатеринбург, Сочи)\n",
    " 3. Данные представлены за полный 2021г  \n",
    " 4. В данных нет пропусков  \n",
    " 5. Было небольшое количесто (меньше 2%) дубликатов в таблице о пользователях, мы их удалили \n",
    " 6. Столбец с врменем пездки в минутах округлили вверх и привели к целочисленному типу данных\n",
    " 7. Изменили тип данных столбца _date_ таблицы _rides_ на верный (date) и удобный для работы  \n",
    " 8. Добавили стобец с Месяцем, извлеченным из даты в таблице о поездках."
   ]
  },
  {
   "cell_type": "markdown",
   "id": "212593c7",
   "metadata": {},
   "source": [
    "## Шаг 3. Исследовательский анализ данных"
   ]
  },
  {
   "cell_type": "markdown",
   "id": "a1d8e4ef",
   "metadata": {},
   "source": [
    "##### Частота встречаемости городов"
   ]
  },
  {
   "cell_type": "code",
   "execution_count": 58,
   "id": "3bed4055",
   "metadata": {},
   "outputs": [
    {
     "data": {
      "image/png": "[encoded data removed]",
      "text/plain": [
       "<Figure size 800x800 with 1 Axes>"
      ]
     },
     "metadata": {},
     "output_type": "display_data"
    }
   ],
   "source": [
    "#на столбчатой диаграмме посмотрим на количество пользователей в городах\n",
    "users['city'].value_counts(ascending=False).plot(kind='bar', figsize=(8,8),\n",
    " title='Share of City', color = 'purple')\n",
    "plt.xlabel('City')\n",
    "plt.ylabel('Count users')\n",
    "plt.grid(True)\n",
    "plt.show()"
   ]
  },
  {
   "cell_type": "markdown",
   "id": "730dc25c",
   "metadata": {},
   "source": [
    "Больше всего пользователей из Пятигорска, меньше всего из Москвы, разница около 100человек."
   ]
  },
  {
   "cell_type": "code",
   "execution_count": 59,
   "id": "e3a4274c",
   "metadata": {},
   "outputs": [
    {
     "data": {
      "image/png": "[encoded data removed]",
      "text/plain": [
       "<Figure size 800x800 with 1 Axes>"
      ]
     },
     "metadata": {},
     "output_type": "display_data"
    }
   ],
   "source": [
    "#посмотрим в долях\n",
    "users['city'].value_counts().plot(kind='pie', figsize=(8,8), autopct='%1.0f%%',\n",
    " title='Share of City')\n",
    "plt.show()"
   ]
  },
  {
   "cell_type": "markdown",
   "id": "cd18dec3",
   "metadata": {},
   "source": [
    "Большой разницы в долях нет.  \n",
    "Какой-то зависимости тоже не выявлено.  \n",
    "Можно было бы предположить, что на количество пользователей будет влиять климат и количество теплых месяцев в году, однако, такой зависимости не видно.  \n",
    "Возможно, это скорее связано с не самой большой выборкой (около 1,5тыс пользователей) и при этом 8 городов.  \n",
    "Возможно, влияет наличие и количество конкурентов, но таких данных у нас нет."
   ]
  },
  {
   "cell_type": "markdown",
   "id": "fff94c6a",
   "metadata": {},
   "source": [
    "##### Cоотношение пользователей с подпиской и без подписки"
   ]
  },
  {
   "cell_type": "code",
   "execution_count": 60,
   "id": "e31729be",
   "metadata": {},
   "outputs": [
    {
     "data": {
      "image/png": "[encoded data removed]",
      "text/plain": [
       "<Figure size 800x800 with 1 Axes>"
      ]
     },
     "metadata": {},
     "output_type": "display_data"
    }
   ],
   "source": [
    "users['subscription_type'].value_counts().plot(kind='pie', figsize=(8,8), autopct='%1.0f%%', colors=('purple','orange'),\n",
    " title='Share of subscription')\n",
    "plt.show()"
   ]
  },
  {
   "cell_type": "markdown",
   "id": "1f00fb8e",
   "metadata": {},
   "source": [
    "Пользователей с подписой всего на 8p.pt или 15% меньше.  \n",
    "Давольно высокая доля пользователей пользуется подпиской(46%)"
   ]
  },
  {
   "cell_type": "markdown",
   "id": "21d0cb10",
   "metadata": {},
   "source": [
    "##### Возраст пользователей"
   ]
  },
  {
   "cell_type": "code",
   "execution_count": 61,
   "id": "657448b6",
   "metadata": {},
   "outputs": [
    {
     "name": "stdout",
     "output_type": "stream",
     "text": [
      "\u001b[1mКоличественная информация\u001b[0m\n"
     ]
    },
    {
     "data": {
      "text/plain": [
       "count    1534.000000\n",
       "mean       24.903520\n",
       "std         4.572367\n",
       "min        12.000000\n",
       "25%        22.000000\n",
       "50%        25.000000\n",
       "75%        28.000000\n",
       "max        43.000000\n",
       "Name: age, dtype: float64"
      ]
     },
     "metadata": {},
     "output_type": "display_data"
    },
    {
     "name": "stdout",
     "output_type": "stream",
     "text": [
      "\u001b[1mРаспределение по возрасту\n",
      "\u001b[0m\n"
     ]
    },
    {
     "data": {
      "image/png": "[encoded data removed]",
      "text/plain": [
       "<Figure size 1000x600 with 1 Axes>"
      ]
     },
     "metadata": {},
     "output_type": "display_data"
    }
   ],
   "source": [
    "print(color.BOLD + 'Количественная информация' + color.END) # жирный шрифт, чтобы можно было комфортно разлечить блоки\n",
    "display(users['age'].describe())\n",
    "print(color.BOLD + 'Распределение по возрасту\\n' + color.END)\n",
    "users['age'].hist(bins = 30, color='purple', figsize=(10,6))\n",
    "plt.title('distrubution_age')\n",
    "plt.xlabel('Age')\n",
    "plt.ylabel('Count users')\n",
    "plt.grid(True)\n",
    "plt.show()"
   ]
  },
  {
   "cell_type": "markdown",
   "id": "41fba3f9",
   "metadata": {},
   "source": [
    "Возраст пользователей распределен от 12 до 43 лет.  \n",
    "Основная часть - от 22 до 27 лет.  \n",
    "При этом, старше 34 пользователей совсем немного, возможно, это связано с консервативностью людей более старшего возраста."
   ]
  },
  {
   "cell_type": "markdown",
   "id": "98cadb5b",
   "metadata": {},
   "source": [
    "##### Расстояние, которое пользователь преодолел за одну поездку"
   ]
  },
  {
   "cell_type": "code",
   "execution_count": 62,
   "id": "a16e04a6",
   "metadata": {},
   "outputs": [
    {
     "name": "stdout",
     "output_type": "stream",
     "text": [
      "\u001b[1mКоличественная информация\u001b[0m\n"
     ]
    },
    {
     "data": {
      "text/plain": [
       "count    18068.000000\n",
       "mean      3070.659976\n",
       "std       1116.831209\n",
       "min          0.855683\n",
       "25%       2543.226360\n",
       "50%       3133.609994\n",
       "75%       3776.222735\n",
       "max       7211.007745\n",
       "Name: distance, dtype: float64"
      ]
     },
     "metadata": {},
     "output_type": "display_data"
    },
    {
     "name": "stdout",
     "output_type": "stream",
     "text": [
      "\u001b[1mРаспределение по расстоянию поездок\n",
      "\u001b[0m\n"
     ]
    },
    {
     "data": {
      "image/png": "[encoded data removed]",
      "text/plain": [
       "<Figure size 1000x600 with 1 Axes>"
      ]
     },
     "metadata": {},
     "output_type": "display_data"
    }
   ],
   "source": [
    "print(color.BOLD + 'Количественная информация' + color.END) # жирный шрифт, чтобы можно было комфортно разлечить блоки\n",
    "display(rides['distance'].describe())\n",
    "print(color.BOLD + 'Распределение по расстоянию поездок\\n' + color.END)\n",
    "rides['distance'].hist(bins = 300, color='purple', figsize=(10,6))\n",
    "plt.title('distrubution_distance')\n",
    "plt.xlabel('Distance')\n",
    "plt.ylabel('Count')\n",
    "plt.grid(True)\n",
    "plt.show()"
   ]
  },
  {
   "cell_type": "markdown",
   "id": "1d4be970",
   "metadata": {},
   "source": [
    "Минимальное расстояние 0,86м - выглядит несколько странно, это немногим больше, чем длина самого самоката.  \n",
    "Самые частые пездки примерно от 2,5 км до 3,7км. Вполне стандартные для перемещеня по городу.  \n",
    "Есть и длинные поездки около 7км, что, впрочем, совсем немного для крупного города."
   ]
  },
  {
   "cell_type": "markdown",
   "id": "5b884a19",
   "metadata": {},
   "source": [
    "Посмотрим на диаграмму распределения, чтобы убедиться, что значения меньше 1м это аномалии."
   ]
  },
  {
   "cell_type": "code",
   "execution_count": 63,
   "id": "e5668c16",
   "metadata": {},
   "outputs": [
    {
     "name": "stdout",
     "output_type": "stream",
     "text": [
      "\u001b[1mДиаграмма распределения\u001b[0m\n"
     ]
    },
    {
     "data": {
      "image/png": "[encoded data removed]",
      "text/plain": [
       "<Figure size 640x480 with 1 Axes>"
      ]
     },
     "metadata": {},
     "output_type": "display_data"
    },
    {
     "name": "stdout",
     "output_type": "stream",
     "text": [
      "\u001b[1mНижнии пики\u001b[0m\n"
     ]
    },
    {
     "data": {
      "image/png": "[encoded data removed]",
      "text/plain": [
       "<Figure size 640x480 with 1 Axes>"
      ]
     },
     "metadata": {},
     "output_type": "display_data"
    },
    {
     "name": "stdout",
     "output_type": "stream",
     "text": [
      "\u001b[1mВерхние\u001b[0m\n"
     ]
    },
    {
     "data": {
      "image/png": "[encoded data removed]",
      "text/plain": [
       "<Figure size 640x480 with 1 Axes>"
      ]
     },
     "metadata": {},
     "output_type": "display_data"
    }
   ],
   "source": [
    "print(color.BOLD + 'Диаграмма распределения' + color.END)\n",
    "rides.boxplot('distance')\n",
    "plt.show()\n",
    "print(color.BOLD + 'Нижнии пики' + color.END)\n",
    "rides.boxplot('distance')\n",
    "plt.ylim(0,20)\n",
    "plt.show()\n",
    "print(color.BOLD + 'Верхние' + color.END)\n",
    "rides.boxplot('distance')\n",
    "plt.ylim(6000)\n",
    "plt.show()"
   ]
  },
  {
   "cell_type": "markdown",
   "id": "b470dc96",
   "metadata": {},
   "source": [
    "Можем заметить, несмотря на то, что значения меньше примерно 900м и больше 5,8км отмечены как выбросы, таких поездок достаточно много.  \n",
    "И даже около 10 поездок на расстояние меньше 17м. Подозреваю, что пользователи брали самокат, но в итоге не ехали.  \n",
    "\n",
    "Так же, можно увидеть пики на расстоянии более 6,5км, видно, что это очень редкие поездки."
   ]
  },
  {
   "cell_type": "markdown",
   "id": "b5318c2c",
   "metadata": {},
   "source": [
    "##### Продолжительность поездок"
   ]
  },
  {
   "cell_type": "code",
   "execution_count": 64,
   "id": "31e47d88",
   "metadata": {},
   "outputs": [
    {
     "name": "stdout",
     "output_type": "stream",
     "text": [
      "\u001b[1mКоличественная информация\u001b[0m\n"
     ]
    },
    {
     "data": {
      "text/plain": [
       "count    18068.000000\n",
       "mean        18.303520\n",
       "std          6.094928\n",
       "min          1.000000\n",
       "25%         14.000000\n",
       "50%         18.000000\n",
       "75%         22.000000\n",
       "max         41.000000\n",
       "Name: duration, dtype: float64"
      ]
     },
     "metadata": {},
     "output_type": "display_data"
    },
    {
     "name": "stdout",
     "output_type": "stream",
     "text": [
      "\u001b[1mРаспределение по длительности поездок\n",
      "\u001b[0m\n"
     ]
    },
    {
     "data": {
      "image/png": "[encoded data removed]",
      "text/plain": [
       "<Figure size 1000x600 with 1 Axes>"
      ]
     },
     "metadata": {},
     "output_type": "display_data"
    }
   ],
   "source": [
    "print(color.BOLD + 'Количественная информация' + color.END) # жирный шрифт, чтобы можно было комфортно разлечить блоки\n",
    "display(rides['duration'].describe())\n",
    "print(color.BOLD + 'Распределение по длительности поездок\\n' + color.END)\n",
    "rides['duration'].hist( bins = 300, color='purple', figsize=(10,6))\n",
    "plt.title('distrubution_duration')\n",
    "plt.xlabel('duration')\n",
    "plt.ylabel('Count')\n",
    "plt.grid(True)\n",
    "plt.show()"
   ]
  },
  {
   "cell_type": "markdown",
   "id": "5303a3e7",
   "metadata": {},
   "source": [
    "Минимальное время - полминуты, так же видим всплеск в районе 1минуты, что вполне коррелирует с минимальными расстояниями.  \n",
    "Вероятно, пользователи тестировали работу или отказывались от поездки по каким-то еще причинам.  \n",
    "Основная доля поездок от 13 до 22 минут.  "
   ]
  },
  {
   "cell_type": "markdown",
   "id": "60226d61",
   "metadata": {},
   "source": [
    "**Вывод**\n",
    "\n",
    "1. Сервис представлен в 8 городах (Тюмень, Омск, Москва, Ростов-на-Дону, Краснодар, Пятигорск, Екатеринбург, Сочи), доли городов распределены доостаточно равномерно - от 11% до 14%, больше всего пользователей из Пятигорска, меньше всего из Москвы.  \n",
    "2. 46% пользователей пользуются платной подпиской.  \n",
    "3. Возраст пользователей распределен от 12 до 43 лет. Основная часть - от 22 до 27 лет.При этом, старше 34 пользователей совсем немного.  \n",
    "4. Самые частые пездки примерно от 2,5 км до 3,7км.  \n",
    "5. По времени основная доля поездок от 14 до 22 минут. "
   ]
  },
  {
   "cell_type": "markdown",
   "id": "4ef51331",
   "metadata": {},
   "source": [
    "## Шаг 4. Объединение данных"
   ]
  },
  {
   "cell_type": "markdown",
   "id": "02073575",
   "metadata": {},
   "source": [
    "Объединим три наши таблицы в один датасет для дальнейшей работы."
   ]
  },
  {
   "cell_type": "code",
   "execution_count": 65,
   "id": "6bf288b5",
   "metadata": {},
   "outputs": [
    {
     "name": "stdout",
     "output_type": "stream",
     "text": [
      "<class 'pandas.core.frame.DataFrame'>\n",
      "Int64Index: 18068 entries, 0 to 18067\n",
      "Data columns (total 12 columns):\n",
      " #   Column             Non-Null Count  Dtype         \n",
      "---  ------             --------------  -----         \n",
      " 0   user_id            18068 non-null  int64         \n",
      " 1   name               18068 non-null  object        \n",
      " 2   age                18068 non-null  int64         \n",
      " 3   city               18068 non-null  object        \n",
      " 4   subscription_type  18068 non-null  object        \n",
      " 5   distance           18068 non-null  float64       \n",
      " 6   duration           18068 non-null  int64         \n",
      " 7   date               18068 non-null  datetime64[ns]\n",
      " 8   month              18068 non-null  int64         \n",
      " 9   minute_price       18068 non-null  int64         \n",
      " 10  start_ride_price   18068 non-null  int64         \n",
      " 11  subscription_fee   18068 non-null  int64         \n",
      "dtypes: datetime64[ns](1), float64(1), int64(7), object(3)\n",
      "memory usage: 1.8+ MB\n"
     ]
    },
    {
     "data": {
      "text/html": [
       "<div>\n",
       "<style scoped>\n",
       "    .dataframe tbody tr th:only-of-type {\n",
       "        vertical-align: middle;\n",
       "    }\n",
       "\n",
       "    .dataframe tbody tr th {\n",
       "        vertical-align: top;\n",
       "    }\n",
       "\n",
       "    .dataframe thead th {\n",
       "        text-align: right;\n",
       "    }\n",
       "</style>\n",
       "<table border=\"1\" class=\"dataframe\">\n",
       "  <thead>\n",
       "    <tr style=\"text-align: right;\">\n",
       "      <th></th>\n",
       "      <th>user_id</th>\n",
       "      <th>name</th>\n",
       "      <th>age</th>\n",
       "      <th>city</th>\n",
       "      <th>subscription_type</th>\n",
       "      <th>distance</th>\n",
       "      <th>duration</th>\n",
       "      <th>date</th>\n",
       "      <th>month</th>\n",
       "      <th>minute_price</th>\n",
       "      <th>start_ride_price</th>\n",
       "      <th>subscription_fee</th>\n",
       "    </tr>\n",
       "  </thead>\n",
       "  <tbody>\n",
       "    <tr>\n",
       "      <th>0</th>\n",
       "      <td>1</td>\n",
       "      <td>Кира</td>\n",
       "      <td>22</td>\n",
       "      <td>Тюмень</td>\n",
       "      <td>ultra</td>\n",
       "      <td>4409.919140</td>\n",
       "      <td>26</td>\n",
       "      <td>2021-01-01</td>\n",
       "      <td>1</td>\n",
       "      <td>6</td>\n",
       "      <td>0</td>\n",
       "      <td>199</td>\n",
       "    </tr>\n",
       "    <tr>\n",
       "      <th>1</th>\n",
       "      <td>1</td>\n",
       "      <td>Кира</td>\n",
       "      <td>22</td>\n",
       "      <td>Тюмень</td>\n",
       "      <td>ultra</td>\n",
       "      <td>2617.592153</td>\n",
       "      <td>16</td>\n",
       "      <td>2021-01-18</td>\n",
       "      <td>1</td>\n",
       "      <td>6</td>\n",
       "      <td>0</td>\n",
       "      <td>199</td>\n",
       "    </tr>\n",
       "    <tr>\n",
       "      <th>2</th>\n",
       "      <td>1</td>\n",
       "      <td>Кира</td>\n",
       "      <td>22</td>\n",
       "      <td>Тюмень</td>\n",
       "      <td>ultra</td>\n",
       "      <td>754.159807</td>\n",
       "      <td>7</td>\n",
       "      <td>2021-04-20</td>\n",
       "      <td>4</td>\n",
       "      <td>6</td>\n",
       "      <td>0</td>\n",
       "      <td>199</td>\n",
       "    </tr>\n",
       "    <tr>\n",
       "      <th>3</th>\n",
       "      <td>1</td>\n",
       "      <td>Кира</td>\n",
       "      <td>22</td>\n",
       "      <td>Тюмень</td>\n",
       "      <td>ultra</td>\n",
       "      <td>2694.783254</td>\n",
       "      <td>19</td>\n",
       "      <td>2021-08-11</td>\n",
       "      <td>8</td>\n",
       "      <td>6</td>\n",
       "      <td>0</td>\n",
       "      <td>199</td>\n",
       "    </tr>\n",
       "    <tr>\n",
       "      <th>4</th>\n",
       "      <td>1</td>\n",
       "      <td>Кира</td>\n",
       "      <td>22</td>\n",
       "      <td>Тюмень</td>\n",
       "      <td>ultra</td>\n",
       "      <td>4028.687306</td>\n",
       "      <td>27</td>\n",
       "      <td>2021-08-28</td>\n",
       "      <td>8</td>\n",
       "      <td>6</td>\n",
       "      <td>0</td>\n",
       "      <td>199</td>\n",
       "    </tr>\n",
       "  </tbody>\n",
       "</table>\n",
       "</div>"
      ],
      "text/plain": [
       "   user_id  name  age    city subscription_type     distance  duration  \\\n",
       "0        1  Кира   22  Тюмень             ultra  4409.919140        26   \n",
       "1        1  Кира   22  Тюмень             ultra  2617.592153        16   \n",
       "2        1  Кира   22  Тюмень             ultra   754.159807         7   \n",
       "3        1  Кира   22  Тюмень             ultra  2694.783254        19   \n",
       "4        1  Кира   22  Тюмень             ultra  4028.687306        27   \n",
       "\n",
       "        date  month  minute_price  start_ride_price  subscription_fee  \n",
       "0 2021-01-01      1             6                 0               199  \n",
       "1 2021-01-18      1             6                 0               199  \n",
       "2 2021-04-20      4             6                 0               199  \n",
       "3 2021-08-11      8             6                 0               199  \n",
       "4 2021-08-28      8             6                 0               199  "
      ]
     },
     "execution_count": 65,
     "metadata": {},
     "output_type": "execute_result"
    }
   ],
   "source": [
    "data = users.merge(rides,on='user_id').merge(sub,on='subscription_type')\n",
    "#после объединения мы должны получить 12 колонок и 18068строк. проверим\n",
    "data.info()\n",
    "data.head()"
   ]
  },
  {
   "cell_type": "markdown",
   "id": "e8be19fa",
   "metadata": {},
   "source": [
    "И разобьем это на два отдельных датафрейма, в зависимости от наличия платной подписки."
   ]
  },
  {
   "cell_type": "code",
   "execution_count": 66,
   "id": "d1f73e22",
   "metadata": {},
   "outputs": [
    {
     "data": {
      "text/html": [
       "<div>\n",
       "<style scoped>\n",
       "    .dataframe tbody tr th:only-of-type {\n",
       "        vertical-align: middle;\n",
       "    }\n",
       "\n",
       "    .dataframe tbody tr th {\n",
       "        vertical-align: top;\n",
       "    }\n",
       "\n",
       "    .dataframe thead th {\n",
       "        text-align: right;\n",
       "    }\n",
       "</style>\n",
       "<table border=\"1\" class=\"dataframe\">\n",
       "  <thead>\n",
       "    <tr style=\"text-align: right;\">\n",
       "      <th></th>\n",
       "      <th>user_id</th>\n",
       "      <th>name</th>\n",
       "      <th>age</th>\n",
       "      <th>city</th>\n",
       "      <th>subscription_type</th>\n",
       "      <th>distance</th>\n",
       "      <th>duration</th>\n",
       "      <th>date</th>\n",
       "      <th>month</th>\n",
       "      <th>minute_price</th>\n",
       "      <th>start_ride_price</th>\n",
       "      <th>subscription_fee</th>\n",
       "    </tr>\n",
       "  </thead>\n",
       "  <tbody>\n",
       "    <tr>\n",
       "      <th>16247</th>\n",
       "      <td>1406</td>\n",
       "      <td>Вероника</td>\n",
       "      <td>28</td>\n",
       "      <td>Ростов-на-Дону</td>\n",
       "      <td>free</td>\n",
       "      <td>4250.258666</td>\n",
       "      <td>13</td>\n",
       "      <td>2021-07-15</td>\n",
       "      <td>7</td>\n",
       "      <td>8</td>\n",
       "      <td>50</td>\n",
       "      <td>0</td>\n",
       "    </tr>\n",
       "    <tr>\n",
       "      <th>14695</th>\n",
       "      <td>1294</td>\n",
       "      <td>Святогор</td>\n",
       "      <td>23</td>\n",
       "      <td>Краснодар</td>\n",
       "      <td>free</td>\n",
       "      <td>3899.331651</td>\n",
       "      <td>21</td>\n",
       "      <td>2021-09-28</td>\n",
       "      <td>9</td>\n",
       "      <td>8</td>\n",
       "      <td>50</td>\n",
       "      <td>0</td>\n",
       "    </tr>\n",
       "    <tr>\n",
       "      <th>11685</th>\n",
       "      <td>1077</td>\n",
       "      <td>Наташа</td>\n",
       "      <td>22</td>\n",
       "      <td>Ростов-на-Дону</td>\n",
       "      <td>free</td>\n",
       "      <td>3296.114659</td>\n",
       "      <td>21</td>\n",
       "      <td>2021-11-08</td>\n",
       "      <td>11</td>\n",
       "      <td>8</td>\n",
       "      <td>50</td>\n",
       "      <td>0</td>\n",
       "    </tr>\n",
       "    <tr>\n",
       "      <th>7800</th>\n",
       "      <td>793</td>\n",
       "      <td>Амир</td>\n",
       "      <td>22</td>\n",
       "      <td>Пятигорск</td>\n",
       "      <td>free</td>\n",
       "      <td>2598.343733</td>\n",
       "      <td>13</td>\n",
       "      <td>2021-11-16</td>\n",
       "      <td>11</td>\n",
       "      <td>8</td>\n",
       "      <td>50</td>\n",
       "      <td>0</td>\n",
       "    </tr>\n",
       "    <tr>\n",
       "      <th>14778</th>\n",
       "      <td>1300</td>\n",
       "      <td>Мария</td>\n",
       "      <td>25</td>\n",
       "      <td>Омск</td>\n",
       "      <td>free</td>\n",
       "      <td>2048.561662</td>\n",
       "      <td>18</td>\n",
       "      <td>2021-08-18</td>\n",
       "      <td>8</td>\n",
       "      <td>8</td>\n",
       "      <td>50</td>\n",
       "      <td>0</td>\n",
       "    </tr>\n",
       "  </tbody>\n",
       "</table>\n",
       "</div>"
      ],
      "text/plain": [
       "       user_id      name  age            city subscription_type     distance  \\\n",
       "16247     1406  Вероника   28  Ростов-на-Дону              free  4250.258666   \n",
       "14695     1294  Святогор   23       Краснодар              free  3899.331651   \n",
       "11685     1077    Наташа   22  Ростов-на-Дону              free  3296.114659   \n",
       "7800       793      Амир   22       Пятигорск              free  2598.343733   \n",
       "14778     1300     Мария   25            Омск              free  2048.561662   \n",
       "\n",
       "       duration       date  month  minute_price  start_ride_price  \\\n",
       "16247        13 2021-07-15      7             8                50   \n",
       "14695        21 2021-09-28      9             8                50   \n",
       "11685        21 2021-11-08     11             8                50   \n",
       "7800         13 2021-11-16     11             8                50   \n",
       "14778        18 2021-08-18      8             8                50   \n",
       "\n",
       "       subscription_fee  \n",
       "16247                 0  \n",
       "14695                 0  \n",
       "11685                 0  \n",
       "7800                  0  \n",
       "14778                 0  "
      ]
     },
     "metadata": {},
     "output_type": "display_data"
    },
    {
     "data": {
      "text/html": [
       "<div>\n",
       "<style scoped>\n",
       "    .dataframe tbody tr th:only-of-type {\n",
       "        vertical-align: middle;\n",
       "    }\n",
       "\n",
       "    .dataframe tbody tr th {\n",
       "        vertical-align: top;\n",
       "    }\n",
       "\n",
       "    .dataframe thead th {\n",
       "        text-align: right;\n",
       "    }\n",
       "</style>\n",
       "<table border=\"1\" class=\"dataframe\">\n",
       "  <thead>\n",
       "    <tr style=\"text-align: right;\">\n",
       "      <th></th>\n",
       "      <th>user_id</th>\n",
       "      <th>name</th>\n",
       "      <th>age</th>\n",
       "      <th>city</th>\n",
       "      <th>subscription_type</th>\n",
       "      <th>distance</th>\n",
       "      <th>duration</th>\n",
       "      <th>date</th>\n",
       "      <th>month</th>\n",
       "      <th>minute_price</th>\n",
       "      <th>start_ride_price</th>\n",
       "      <th>subscription_fee</th>\n",
       "    </tr>\n",
       "  </thead>\n",
       "  <tbody>\n",
       "    <tr>\n",
       "      <th>5730</th>\n",
       "      <td>612</td>\n",
       "      <td>Елена</td>\n",
       "      <td>32</td>\n",
       "      <td>Ростов-на-Дону</td>\n",
       "      <td>ultra</td>\n",
       "      <td>3100.412905</td>\n",
       "      <td>18</td>\n",
       "      <td>2021-06-14</td>\n",
       "      <td>6</td>\n",
       "      <td>6</td>\n",
       "      <td>0</td>\n",
       "      <td>199</td>\n",
       "    </tr>\n",
       "    <tr>\n",
       "      <th>146</th>\n",
       "      <td>15</td>\n",
       "      <td>Валерия</td>\n",
       "      <td>24</td>\n",
       "      <td>Тюмень</td>\n",
       "      <td>ultra</td>\n",
       "      <td>4504.150823</td>\n",
       "      <td>27</td>\n",
       "      <td>2021-03-02</td>\n",
       "      <td>3</td>\n",
       "      <td>6</td>\n",
       "      <td>0</td>\n",
       "      <td>199</td>\n",
       "    </tr>\n",
       "    <tr>\n",
       "      <th>1939</th>\n",
       "      <td>210</td>\n",
       "      <td>Алексей</td>\n",
       "      <td>23</td>\n",
       "      <td>Омск</td>\n",
       "      <td>ultra</td>\n",
       "      <td>3496.142787</td>\n",
       "      <td>13</td>\n",
       "      <td>2021-07-21</td>\n",
       "      <td>7</td>\n",
       "      <td>6</td>\n",
       "      <td>0</td>\n",
       "      <td>199</td>\n",
       "    </tr>\n",
       "    <tr>\n",
       "      <th>4768</th>\n",
       "      <td>513</td>\n",
       "      <td>Иван</td>\n",
       "      <td>28</td>\n",
       "      <td>Пятигорск</td>\n",
       "      <td>ultra</td>\n",
       "      <td>3717.578429</td>\n",
       "      <td>21</td>\n",
       "      <td>2021-04-25</td>\n",
       "      <td>4</td>\n",
       "      <td>6</td>\n",
       "      <td>0</td>\n",
       "      <td>199</td>\n",
       "    </tr>\n",
       "    <tr>\n",
       "      <th>3231</th>\n",
       "      <td>349</td>\n",
       "      <td>Федор</td>\n",
       "      <td>25</td>\n",
       "      <td>Сочи</td>\n",
       "      <td>ultra</td>\n",
       "      <td>2618.142941</td>\n",
       "      <td>11</td>\n",
       "      <td>2021-09-08</td>\n",
       "      <td>9</td>\n",
       "      <td>6</td>\n",
       "      <td>0</td>\n",
       "      <td>199</td>\n",
       "    </tr>\n",
       "  </tbody>\n",
       "</table>\n",
       "</div>"
      ],
      "text/plain": [
       "      user_id     name  age            city subscription_type     distance  \\\n",
       "5730      612    Елена   32  Ростов-на-Дону             ultra  3100.412905   \n",
       "146        15  Валерия   24          Тюмень             ultra  4504.150823   \n",
       "1939      210  Алексей   23            Омск             ultra  3496.142787   \n",
       "4768      513     Иван   28       Пятигорск             ultra  3717.578429   \n",
       "3231      349    Федор   25            Сочи             ultra  2618.142941   \n",
       "\n",
       "      duration       date  month  minute_price  start_ride_price  \\\n",
       "5730        18 2021-06-14      6             6                 0   \n",
       "146         27 2021-03-02      3             6                 0   \n",
       "1939        13 2021-07-21      7             6                 0   \n",
       "4768        21 2021-04-25      4             6                 0   \n",
       "3231        11 2021-09-08      9             6                 0   \n",
       "\n",
       "      subscription_fee  \n",
       "5730               199  \n",
       "146                199  \n",
       "1939               199  \n",
       "4768               199  \n",
       "3231               199  "
      ]
     },
     "execution_count": 66,
     "metadata": {},
     "output_type": "execute_result"
    }
   ],
   "source": [
    "free_users = data.query(\"subscription_type == 'free'\")\n",
    "ultra_users = data.query(\"subscription_type == 'ultra'\")\n",
    "\n",
    "display(free_users.sample(5)) #посмотриим на пример\n",
    "ultra_users.sample(5) #посмотриим на пример"
   ]
  },
  {
   "cell_type": "markdown",
   "id": "2ee47a02",
   "metadata": {},
   "source": [
    "##### Времая и расстояние в разрезе подписки"
   ]
  },
  {
   "cell_type": "code",
   "execution_count": 67,
   "id": "e7526c71",
   "metadata": {},
   "outputs": [
    {
     "name": "stdout",
     "output_type": "stream",
     "text": [
      "\u001b[1mДлительности поездок в зависимости от подписки(время)\u001b[0m\n"
     ]
    },
    {
     "data": {
      "image/png": "[encoded data removed]",
      "text/plain": [
       "<Figure size 1500x1000 with 1 Axes>"
      ]
     },
     "metadata": {},
     "output_type": "display_data"
    },
    {
     "name": "stdout",
     "output_type": "stream",
     "text": [
      "\u001b[1mКоличественная информация на тарифе free\u001b[0m\n"
     ]
    },
    {
     "data": {
      "text/plain": [
       "count    11568.000000\n",
       "mean        17.890992\n",
       "std          6.330250\n",
       "min          1.000000\n",
       "25%         13.000000\n",
       "50%         18.000000\n",
       "75%         22.000000\n",
       "max         35.000000\n",
       "Name: duration, dtype: float64"
      ]
     },
     "metadata": {},
     "output_type": "display_data"
    },
    {
     "name": "stdout",
     "output_type": "stream",
     "text": [
      "\u001b[1mКоличественная информация на тарифе ultra\u001b[0m\n"
     ]
    },
    {
     "data": {
      "text/plain": [
       "count    6500.000000\n",
       "mean       19.037692\n",
       "std         5.577439\n",
       "min         4.000000\n",
       "25%        15.000000\n",
       "50%        19.000000\n",
       "75%        22.000000\n",
       "max        41.000000\n",
       "Name: duration, dtype: float64"
      ]
     },
     "metadata": {},
     "output_type": "display_data"
    }
   ],
   "source": [
    "print(color.BOLD + 'Длительности поездок в зависимости от подписки(время)' + color.END)\n",
    "free_users['duration'].hist(bins=200, label='free', color='green')\n",
    "ultra_users['duration'].hist(bins=200, label='ultra', color='red', figsize=(15,10))\n",
    "plt.title('distrubution_duration')\n",
    "plt.xlabel('duration')\n",
    "plt.ylabel('Count')\n",
    "plt.legend(fontsize=10)\n",
    "plt.grid(True)\n",
    "plt.show()\n",
    "print(color.BOLD + 'Количественная информация на тарифе free' + color.END)\n",
    "display(free_users['duration'].describe())\n",
    "print(color.BOLD + 'Количественная информация на тарифе ultra' + color.END)\n",
    "display(ultra_users['duration'].describe())"
   ]
  },
  {
   "cell_type": "markdown",
   "id": "f2eff64a",
   "metadata": {},
   "source": [
    "В целом, графики очень похожи.  \n",
    "Средние и медианные значения так же близки, на платной подписке примерно на 1минуту оба значения больше, чем на бесплатном.  \n",
    "Из странного, что аномально короткие \"тестовые\" поездки на бесплатном тарифе, при том, что старт там стоит 50р.  "
   ]
  },
  {
   "cell_type": "code",
   "execution_count": 68,
   "id": "fa1c473b",
   "metadata": {},
   "outputs": [
    {
     "name": "stdout",
     "output_type": "stream",
     "text": [
      "\u001b[1mДлительности поездок в зависимости от подписки(расстояние)\u001b[0m\n"
     ]
    },
    {
     "data": {
      "image/png": "[encoded data removed]",
      "text/plain": [
       "<Figure size 1500x1000 with 1 Axes>"
      ]
     },
     "metadata": {},
     "output_type": "display_data"
    },
    {
     "name": "stdout",
     "output_type": "stream",
     "text": [
      "\u001b[1mКоличественная информация на тарифе free\u001b[0m\n"
     ]
    },
    {
     "data": {
      "text/plain": [
       "count    11568.000000\n",
       "mean      3045.495282\n",
       "std       1246.173806\n",
       "min          0.855683\n",
       "25%       2366.562689\n",
       "50%       3114.648465\n",
       "75%       3905.697894\n",
       "max       7211.007745\n",
       "Name: distance, dtype: float64"
      ]
     },
     "metadata": {},
     "output_type": "display_data"
    },
    {
     "name": "stdout",
     "output_type": "stream",
     "text": [
      "\u001b[1mКоличественная информация на тарифе ultra\u001b[0m\n"
     ]
    },
    {
     "data": {
      "text/plain": [
       "count    6500.000000\n",
       "mean     3115.445388\n",
       "std       836.895330\n",
       "min       244.210438\n",
       "25%      2785.444017\n",
       "50%      3148.637229\n",
       "75%      3560.574425\n",
       "max      5699.769662\n",
       "Name: distance, dtype: float64"
      ]
     },
     "metadata": {},
     "output_type": "display_data"
    }
   ],
   "source": [
    "print(color.BOLD + 'Длительности поездок в зависимости от подписки(расстояние)' + color.END)\n",
    "free_users['distance'].hist(bins=200, label='free', color='green')\n",
    "ultra_users['distance'].hist(bins=200, label='ultra', color='pink', figsize=(15,10))\n",
    "plt.title('distrubution_distance')\n",
    "plt.xlabel('Distance')\n",
    "plt.ylabel('Count')\n",
    "plt.legend(fontsize=10)\n",
    "plt.grid(True)\n",
    "plt.show()\n",
    "print(color.BOLD + 'Количественная информация на тарифе free' + color.END)\n",
    "display(free_users['distance'].describe())\n",
    "print(color.BOLD + 'Количественная информация на тарифе ultra' + color.END)\n",
    "display(ultra_users['distance'].describe())"
   ]
  },
  {
   "cell_type": "markdown",
   "id": "5851e740",
   "metadata": {},
   "source": [
    "Здесь картинка та же, что и в распределении времени, значения на разных типах подписки очень близки.  \n",
    "Из интересного, максимальное время поездок больше на платном тарифе, а расстояние, наоборот, на бесплатном.  \n",
    "Возможно, т.к. на free тарифе пользователи платят и за старт поездки и за каждую минуту, они стараются экономить и едут быстрее, но средние отличаются слишком мало, поэтому, это лишь допущение."
   ]
  },
  {
   "cell_type": "markdown",
   "id": "b8345737",
   "metadata": {},
   "source": [
    "**Вывод**\n",
    " \n",
    "Наличие или отсутствие платной подписки, на первый взгляд, не слишком влияют на средние показатели расстояния и времени одной поездки. Средние показатели времени на 1мин больше на платном тарифе, Средние расстояния всего на пару сотен метров."
   ]
  },
  {
   "cell_type": "markdown",
   "id": "402d620f",
   "metadata": {},
   "source": [
    "## Шаг 5. Подсчёт выручки"
   ]
  },
  {
   "cell_type": "markdown",
   "id": "921ad19c",
   "metadata": {},
   "source": [
    "Создадим датафрейм с агрегированными данными о поездках, найдем суммарное расстояние, количество поездок и суммарное время для каждого пользователя за каждый месяц.  \n",
    "При этом, оставим в новой таблице данные о подписках, чтобы можно далее легко было подсчитать выручку от каждого пользователя."
   ]
  },
  {
   "cell_type": "code",
   "execution_count": 69,
   "id": "3bbe4bea",
   "metadata": {},
   "outputs": [
    {
     "data": {
      "text/html": [
       "<div>\n",
       "<style scoped>\n",
       "    .dataframe tbody tr th:only-of-type {\n",
       "        vertical-align: middle;\n",
       "    }\n",
       "\n",
       "    .dataframe tbody tr th {\n",
       "        vertical-align: top;\n",
       "    }\n",
       "\n",
       "    .dataframe thead th {\n",
       "        text-align: right;\n",
       "    }\n",
       "</style>\n",
       "<table border=\"1\" class=\"dataframe\">\n",
       "  <thead>\n",
       "    <tr style=\"text-align: right;\">\n",
       "      <th></th>\n",
       "      <th></th>\n",
       "      <th>distance</th>\n",
       "      <th>count_rides</th>\n",
       "      <th>duration</th>\n",
       "      <th>subscription_type</th>\n",
       "      <th>minute_price</th>\n",
       "      <th>start_ride_price</th>\n",
       "      <th>subscription_fee</th>\n",
       "    </tr>\n",
       "    <tr>\n",
       "      <th>user_id</th>\n",
       "      <th>month</th>\n",
       "      <th></th>\n",
       "      <th></th>\n",
       "      <th></th>\n",
       "      <th></th>\n",
       "      <th></th>\n",
       "      <th></th>\n",
       "      <th></th>\n",
       "    </tr>\n",
       "  </thead>\n",
       "  <tbody>\n",
       "    <tr>\n",
       "      <th rowspan=\"6\" valign=\"top\">1</th>\n",
       "      <th>1</th>\n",
       "      <td>7027.511294</td>\n",
       "      <td>2</td>\n",
       "      <td>42</td>\n",
       "      <td>ultra</td>\n",
       "      <td>6</td>\n",
       "      <td>0</td>\n",
       "      <td>199</td>\n",
       "    </tr>\n",
       "    <tr>\n",
       "      <th>4</th>\n",
       "      <td>754.159807</td>\n",
       "      <td>1</td>\n",
       "      <td>7</td>\n",
       "      <td>ultra</td>\n",
       "      <td>6</td>\n",
       "      <td>0</td>\n",
       "      <td>199</td>\n",
       "    </tr>\n",
       "    <tr>\n",
       "      <th>8</th>\n",
       "      <td>6723.470560</td>\n",
       "      <td>2</td>\n",
       "      <td>46</td>\n",
       "      <td>ultra</td>\n",
       "      <td>6</td>\n",
       "      <td>0</td>\n",
       "      <td>199</td>\n",
       "    </tr>\n",
       "    <tr>\n",
       "      <th>10</th>\n",
       "      <td>5809.911100</td>\n",
       "      <td>2</td>\n",
       "      <td>32</td>\n",
       "      <td>ultra</td>\n",
       "      <td>6</td>\n",
       "      <td>0</td>\n",
       "      <td>199</td>\n",
       "    </tr>\n",
       "    <tr>\n",
       "      <th>11</th>\n",
       "      <td>7003.499363</td>\n",
       "      <td>3</td>\n",
       "      <td>56</td>\n",
       "      <td>ultra</td>\n",
       "      <td>6</td>\n",
       "      <td>0</td>\n",
       "      <td>199</td>\n",
       "    </tr>\n",
       "    <tr>\n",
       "      <th>12</th>\n",
       "      <td>6751.629942</td>\n",
       "      <td>2</td>\n",
       "      <td>28</td>\n",
       "      <td>ultra</td>\n",
       "      <td>6</td>\n",
       "      <td>0</td>\n",
       "      <td>199</td>\n",
       "    </tr>\n",
       "    <tr>\n",
       "      <th rowspan=\"4\" valign=\"top\">2</th>\n",
       "      <th>3</th>\n",
       "      <td>10187.723006</td>\n",
       "      <td>3</td>\n",
       "      <td>63</td>\n",
       "      <td>ultra</td>\n",
       "      <td>6</td>\n",
       "      <td>0</td>\n",
       "      <td>199</td>\n",
       "    </tr>\n",
       "    <tr>\n",
       "      <th>4</th>\n",
       "      <td>6164.381824</td>\n",
       "      <td>2</td>\n",
       "      <td>40</td>\n",
       "      <td>ultra</td>\n",
       "      <td>6</td>\n",
       "      <td>0</td>\n",
       "      <td>199</td>\n",
       "    </tr>\n",
       "    <tr>\n",
       "      <th>6</th>\n",
       "      <td>3255.338202</td>\n",
       "      <td>1</td>\n",
       "      <td>14</td>\n",
       "      <td>ultra</td>\n",
       "      <td>6</td>\n",
       "      <td>0</td>\n",
       "      <td>199</td>\n",
       "    </tr>\n",
       "    <tr>\n",
       "      <th>7</th>\n",
       "      <td>6780.722964</td>\n",
       "      <td>2</td>\n",
       "      <td>48</td>\n",
       "      <td>ultra</td>\n",
       "      <td>6</td>\n",
       "      <td>0</td>\n",
       "      <td>199</td>\n",
       "    </tr>\n",
       "  </tbody>\n",
       "</table>\n",
       "</div>"
      ],
      "text/plain": [
       "                   distance  count_rides  duration subscription_type  \\\n",
       "user_id month                                                          \n",
       "1       1       7027.511294            2        42             ultra   \n",
       "        4        754.159807            1         7             ultra   \n",
       "        8       6723.470560            2        46             ultra   \n",
       "        10      5809.911100            2        32             ultra   \n",
       "        11      7003.499363            3        56             ultra   \n",
       "        12      6751.629942            2        28             ultra   \n",
       "2       3      10187.723006            3        63             ultra   \n",
       "        4       6164.381824            2        40             ultra   \n",
       "        6       3255.338202            1        14             ultra   \n",
       "        7       6780.722964            2        48             ultra   \n",
       "\n",
       "               minute_price  start_ride_price  subscription_fee  \n",
       "user_id month                                                    \n",
       "1       1                 6                 0               199  \n",
       "        4                 6                 0               199  \n",
       "        8                 6                 0               199  \n",
       "        10                6                 0               199  \n",
       "        11                6                 0               199  \n",
       "        12                6                 0               199  \n",
       "2       3                 6                 0               199  \n",
       "        4                 6                 0               199  \n",
       "        6                 6                 0               199  \n",
       "        7                 6                 0               199  "
      ]
     },
     "execution_count": 69,
     "metadata": {},
     "output_type": "execute_result"
    }
   ],
   "source": [
    "agg_data = data.groupby(by=['user_id', 'month'])\\\n",
    ".agg({'distance':'sum', 'user_id':'count', 'duration':'sum', 'subscription_type':'min', 'minute_price':'min', 'start_ride_price':'min', 'subscription_fee':'min'})\\\n",
    ".rename(columns={'user_id': 'count_rides'})\n",
    "agg_data.head(10)"
   ]
  },
  {
   "cell_type": "code",
   "execution_count": 70,
   "id": "0ad752b5",
   "metadata": {},
   "outputs": [
    {
     "data": {
      "text/html": [
       "<div>\n",
       "<style scoped>\n",
       "    .dataframe tbody tr th:only-of-type {\n",
       "        vertical-align: middle;\n",
       "    }\n",
       "\n",
       "    .dataframe tbody tr th {\n",
       "        vertical-align: top;\n",
       "    }\n",
       "\n",
       "    .dataframe thead th {\n",
       "        text-align: right;\n",
       "    }\n",
       "</style>\n",
       "<table border=\"1\" class=\"dataframe\">\n",
       "  <thead>\n",
       "    <tr style=\"text-align: right;\">\n",
       "      <th></th>\n",
       "      <th></th>\n",
       "      <th>distance</th>\n",
       "      <th>count_rides</th>\n",
       "      <th>duration</th>\n",
       "      <th>subscription_type</th>\n",
       "      <th>minute_price</th>\n",
       "      <th>start_ride_price</th>\n",
       "      <th>subscription_fee</th>\n",
       "      <th>income</th>\n",
       "    </tr>\n",
       "    <tr>\n",
       "      <th>user_id</th>\n",
       "      <th>month</th>\n",
       "      <th></th>\n",
       "      <th></th>\n",
       "      <th></th>\n",
       "      <th></th>\n",
       "      <th></th>\n",
       "      <th></th>\n",
       "      <th></th>\n",
       "      <th></th>\n",
       "    </tr>\n",
       "  </thead>\n",
       "  <tbody>\n",
       "    <tr>\n",
       "      <th rowspan=\"6\" valign=\"top\">1</th>\n",
       "      <th>1</th>\n",
       "      <td>7027.511294</td>\n",
       "      <td>2</td>\n",
       "      <td>42</td>\n",
       "      <td>ultra</td>\n",
       "      <td>6</td>\n",
       "      <td>0</td>\n",
       "      <td>199</td>\n",
       "      <td>451</td>\n",
       "    </tr>\n",
       "    <tr>\n",
       "      <th>4</th>\n",
       "      <td>754.159807</td>\n",
       "      <td>1</td>\n",
       "      <td>7</td>\n",
       "      <td>ultra</td>\n",
       "      <td>6</td>\n",
       "      <td>0</td>\n",
       "      <td>199</td>\n",
       "      <td>241</td>\n",
       "    </tr>\n",
       "    <tr>\n",
       "      <th>8</th>\n",
       "      <td>6723.470560</td>\n",
       "      <td>2</td>\n",
       "      <td>46</td>\n",
       "      <td>ultra</td>\n",
       "      <td>6</td>\n",
       "      <td>0</td>\n",
       "      <td>199</td>\n",
       "      <td>475</td>\n",
       "    </tr>\n",
       "    <tr>\n",
       "      <th>10</th>\n",
       "      <td>5809.911100</td>\n",
       "      <td>2</td>\n",
       "      <td>32</td>\n",
       "      <td>ultra</td>\n",
       "      <td>6</td>\n",
       "      <td>0</td>\n",
       "      <td>199</td>\n",
       "      <td>391</td>\n",
       "    </tr>\n",
       "    <tr>\n",
       "      <th>11</th>\n",
       "      <td>7003.499363</td>\n",
       "      <td>3</td>\n",
       "      <td>56</td>\n",
       "      <td>ultra</td>\n",
       "      <td>6</td>\n",
       "      <td>0</td>\n",
       "      <td>199</td>\n",
       "      <td>535</td>\n",
       "    </tr>\n",
       "    <tr>\n",
       "      <th>12</th>\n",
       "      <td>6751.629942</td>\n",
       "      <td>2</td>\n",
       "      <td>28</td>\n",
       "      <td>ultra</td>\n",
       "      <td>6</td>\n",
       "      <td>0</td>\n",
       "      <td>199</td>\n",
       "      <td>367</td>\n",
       "    </tr>\n",
       "    <tr>\n",
       "      <th rowspan=\"4\" valign=\"top\">2</th>\n",
       "      <th>3</th>\n",
       "      <td>10187.723006</td>\n",
       "      <td>3</td>\n",
       "      <td>63</td>\n",
       "      <td>ultra</td>\n",
       "      <td>6</td>\n",
       "      <td>0</td>\n",
       "      <td>199</td>\n",
       "      <td>577</td>\n",
       "    </tr>\n",
       "    <tr>\n",
       "      <th>4</th>\n",
       "      <td>6164.381824</td>\n",
       "      <td>2</td>\n",
       "      <td>40</td>\n",
       "      <td>ultra</td>\n",
       "      <td>6</td>\n",
       "      <td>0</td>\n",
       "      <td>199</td>\n",
       "      <td>439</td>\n",
       "    </tr>\n",
       "    <tr>\n",
       "      <th>6</th>\n",
       "      <td>3255.338202</td>\n",
       "      <td>1</td>\n",
       "      <td>14</td>\n",
       "      <td>ultra</td>\n",
       "      <td>6</td>\n",
       "      <td>0</td>\n",
       "      <td>199</td>\n",
       "      <td>283</td>\n",
       "    </tr>\n",
       "    <tr>\n",
       "      <th>7</th>\n",
       "      <td>6780.722964</td>\n",
       "      <td>2</td>\n",
       "      <td>48</td>\n",
       "      <td>ultra</td>\n",
       "      <td>6</td>\n",
       "      <td>0</td>\n",
       "      <td>199</td>\n",
       "      <td>487</td>\n",
       "    </tr>\n",
       "  </tbody>\n",
       "</table>\n",
       "</div>"
      ],
      "text/plain": [
       "                   distance  count_rides  duration subscription_type  \\\n",
       "user_id month                                                          \n",
       "1       1       7027.511294            2        42             ultra   \n",
       "        4        754.159807            1         7             ultra   \n",
       "        8       6723.470560            2        46             ultra   \n",
       "        10      5809.911100            2        32             ultra   \n",
       "        11      7003.499363            3        56             ultra   \n",
       "        12      6751.629942            2        28             ultra   \n",
       "2       3      10187.723006            3        63             ultra   \n",
       "        4       6164.381824            2        40             ultra   \n",
       "        6       3255.338202            1        14             ultra   \n",
       "        7       6780.722964            2        48             ultra   \n",
       "\n",
       "               minute_price  start_ride_price  subscription_fee  income  \n",
       "user_id month                                                            \n",
       "1       1                 6                 0               199     451  \n",
       "        4                 6                 0               199     241  \n",
       "        8                 6                 0               199     475  \n",
       "        10                6                 0               199     391  \n",
       "        11                6                 0               199     535  \n",
       "        12                6                 0               199     367  \n",
       "2       3                 6                 0               199     577  \n",
       "        4                 6                 0               199     439  \n",
       "        6                 6                 0               199     283  \n",
       "        7                 6                 0               199     487  "
      ]
     },
     "execution_count": 70,
     "metadata": {},
     "output_type": "execute_result"
    }
   ],
   "source": [
    "#для получения суммы выручки с каждого пользователя за месяц, нам нужно:\n",
    "#стоимость старата * количество поездок (для ultra это будет 0) \n",
    "# + количество минут * стоимость одной минуты \n",
    "# и + стоимость подписки (для free это будет 0)\n",
    "agg_data['income'] = ((agg_data['start_ride_price'] * agg_data['count_rides'])\\\n",
    "+ (agg_data['minute_price'] * agg_data['duration'])\\\n",
    "   + agg_data['subscription_fee']).astype('int')\n",
    "agg_data.head(10)"
   ]
  },
  {
   "cell_type": "code",
   "execution_count": 71,
   "id": "0122d37f",
   "metadata": {},
   "outputs": [
    {
     "data": {
      "text/html": [
       "<div>\n",
       "<style scoped>\n",
       "    .dataframe tbody tr th:only-of-type {\n",
       "        vertical-align: middle;\n",
       "    }\n",
       "\n",
       "    .dataframe tbody tr th {\n",
       "        vertical-align: top;\n",
       "    }\n",
       "\n",
       "    .dataframe thead th {\n",
       "        text-align: right;\n",
       "    }\n",
       "</style>\n",
       "<table border=\"1\" class=\"dataframe\">\n",
       "  <thead>\n",
       "    <tr style=\"text-align: right;\">\n",
       "      <th></th>\n",
       "      <th></th>\n",
       "      <th>distance</th>\n",
       "      <th>count_rides</th>\n",
       "      <th>duration</th>\n",
       "      <th>subscription_type</th>\n",
       "      <th>minute_price</th>\n",
       "      <th>start_ride_price</th>\n",
       "      <th>subscription_fee</th>\n",
       "      <th>income</th>\n",
       "    </tr>\n",
       "    <tr>\n",
       "      <th>user_id</th>\n",
       "      <th>month</th>\n",
       "      <th></th>\n",
       "      <th></th>\n",
       "      <th></th>\n",
       "      <th></th>\n",
       "      <th></th>\n",
       "      <th></th>\n",
       "      <th></th>\n",
       "      <th></th>\n",
       "    </tr>\n",
       "  </thead>\n",
       "  <tbody>\n",
       "    <tr>\n",
       "      <th rowspan=\"5\" valign=\"top\">700</th>\n",
       "      <th>1</th>\n",
       "      <td>2515.690719</td>\n",
       "      <td>1</td>\n",
       "      <td>15</td>\n",
       "      <td>free</td>\n",
       "      <td>8</td>\n",
       "      <td>50</td>\n",
       "      <td>0</td>\n",
       "      <td>170</td>\n",
       "    </tr>\n",
       "    <tr>\n",
       "      <th>2</th>\n",
       "      <td>13446.659764</td>\n",
       "      <td>5</td>\n",
       "      <td>89</td>\n",
       "      <td>free</td>\n",
       "      <td>8</td>\n",
       "      <td>50</td>\n",
       "      <td>0</td>\n",
       "      <td>962</td>\n",
       "    </tr>\n",
       "    <tr>\n",
       "      <th>3</th>\n",
       "      <td>3798.334905</td>\n",
       "      <td>1</td>\n",
       "      <td>19</td>\n",
       "      <td>free</td>\n",
       "      <td>8</td>\n",
       "      <td>50</td>\n",
       "      <td>0</td>\n",
       "      <td>202</td>\n",
       "    </tr>\n",
       "    <tr>\n",
       "      <th>4</th>\n",
       "      <td>2984.551206</td>\n",
       "      <td>1</td>\n",
       "      <td>16</td>\n",
       "      <td>free</td>\n",
       "      <td>8</td>\n",
       "      <td>50</td>\n",
       "      <td>0</td>\n",
       "      <td>178</td>\n",
       "    </tr>\n",
       "    <tr>\n",
       "      <th>6</th>\n",
       "      <td>5927.650988</td>\n",
       "      <td>2</td>\n",
       "      <td>29</td>\n",
       "      <td>free</td>\n",
       "      <td>8</td>\n",
       "      <td>50</td>\n",
       "      <td>0</td>\n",
       "      <td>332</td>\n",
       "    </tr>\n",
       "  </tbody>\n",
       "</table>\n",
       "</div>"
      ],
      "text/plain": [
       "                   distance  count_rides  duration subscription_type  \\\n",
       "user_id month                                                          \n",
       "700     1       2515.690719            1        15              free   \n",
       "        2      13446.659764            5        89              free   \n",
       "        3       3798.334905            1        19              free   \n",
       "        4       2984.551206            1        16              free   \n",
       "        6       5927.650988            2        29              free   \n",
       "\n",
       "               minute_price  start_ride_price  subscription_fee  income  \n",
       "user_id month                                                            \n",
       "700     1                 8                50                 0     170  \n",
       "        2                 8                50                 0     962  \n",
       "        3                 8                50                 0     202  \n",
       "        4                 8                50                 0     178  \n",
       "        6                 8                50                 0     332  "
      ]
     },
     "metadata": {},
     "output_type": "display_data"
    },
    {
     "data": {
      "text/html": [
       "<div>\n",
       "<style scoped>\n",
       "    .dataframe tbody tr th:only-of-type {\n",
       "        vertical-align: middle;\n",
       "    }\n",
       "\n",
       "    .dataframe tbody tr th {\n",
       "        vertical-align: top;\n",
       "    }\n",
       "\n",
       "    .dataframe thead th {\n",
       "        text-align: right;\n",
       "    }\n",
       "</style>\n",
       "<table border=\"1\" class=\"dataframe\">\n",
       "  <thead>\n",
       "    <tr style=\"text-align: right;\">\n",
       "      <th></th>\n",
       "      <th></th>\n",
       "      <th>distance</th>\n",
       "      <th>count_rides</th>\n",
       "      <th>duration</th>\n",
       "      <th>subscription_type</th>\n",
       "      <th>minute_price</th>\n",
       "      <th>start_ride_price</th>\n",
       "      <th>subscription_fee</th>\n",
       "      <th>income</th>\n",
       "    </tr>\n",
       "    <tr>\n",
       "      <th>user_id</th>\n",
       "      <th>month</th>\n",
       "      <th></th>\n",
       "      <th></th>\n",
       "      <th></th>\n",
       "      <th></th>\n",
       "      <th></th>\n",
       "      <th></th>\n",
       "      <th></th>\n",
       "      <th></th>\n",
       "    </tr>\n",
       "  </thead>\n",
       "  <tbody>\n",
       "    <tr>\n",
       "      <th rowspan=\"5\" valign=\"top\">1</th>\n",
       "      <th>1</th>\n",
       "      <td>7027.511294</td>\n",
       "      <td>2</td>\n",
       "      <td>42</td>\n",
       "      <td>ultra</td>\n",
       "      <td>6</td>\n",
       "      <td>0</td>\n",
       "      <td>199</td>\n",
       "      <td>451</td>\n",
       "    </tr>\n",
       "    <tr>\n",
       "      <th>4</th>\n",
       "      <td>754.159807</td>\n",
       "      <td>1</td>\n",
       "      <td>7</td>\n",
       "      <td>ultra</td>\n",
       "      <td>6</td>\n",
       "      <td>0</td>\n",
       "      <td>199</td>\n",
       "      <td>241</td>\n",
       "    </tr>\n",
       "    <tr>\n",
       "      <th>8</th>\n",
       "      <td>6723.470560</td>\n",
       "      <td>2</td>\n",
       "      <td>46</td>\n",
       "      <td>ultra</td>\n",
       "      <td>6</td>\n",
       "      <td>0</td>\n",
       "      <td>199</td>\n",
       "      <td>475</td>\n",
       "    </tr>\n",
       "    <tr>\n",
       "      <th>10</th>\n",
       "      <td>5809.911100</td>\n",
       "      <td>2</td>\n",
       "      <td>32</td>\n",
       "      <td>ultra</td>\n",
       "      <td>6</td>\n",
       "      <td>0</td>\n",
       "      <td>199</td>\n",
       "      <td>391</td>\n",
       "    </tr>\n",
       "    <tr>\n",
       "      <th>11</th>\n",
       "      <td>7003.499363</td>\n",
       "      <td>3</td>\n",
       "      <td>56</td>\n",
       "      <td>ultra</td>\n",
       "      <td>6</td>\n",
       "      <td>0</td>\n",
       "      <td>199</td>\n",
       "      <td>535</td>\n",
       "    </tr>\n",
       "  </tbody>\n",
       "</table>\n",
       "</div>"
      ],
      "text/plain": [
       "                  distance  count_rides  duration subscription_type  \\\n",
       "user_id month                                                         \n",
       "1       1      7027.511294            2        42             ultra   \n",
       "        4       754.159807            1         7             ultra   \n",
       "        8      6723.470560            2        46             ultra   \n",
       "        10     5809.911100            2        32             ultra   \n",
       "        11     7003.499363            3        56             ultra   \n",
       "\n",
       "               minute_price  start_ride_price  subscription_fee  income  \n",
       "user_id month                                                            \n",
       "1       1                 6                 0               199     451  \n",
       "        4                 6                 0               199     241  \n",
       "        8                 6                 0               199     475  \n",
       "        10                6                 0               199     391  \n",
       "        11                6                 0               199     535  "
      ]
     },
     "execution_count": 71,
     "metadata": {},
     "output_type": "execute_result"
    }
   ],
   "source": [
    "# разобьем так же на два датасета в зависимости от подписки\n",
    "agg_free = agg_data.query(\"subscription_type == 'free'\")\n",
    "agg_ultra = agg_data.query(\"subscription_type == 'ultra'\")\n",
    "\n",
    "display(agg_free.head())\n",
    "agg_ultra.head()"
   ]
  },
  {
   "cell_type": "markdown",
   "id": "41545ac0",
   "metadata": {},
   "source": [
    "## Шаг 6. Проверка гипотез"
   ]
  },
  {
   "cell_type": "markdown",
   "id": "82c46b3e",
   "metadata": {},
   "source": [
    "##### Важно понять, тратят ли пользователи с подпиской больше времени на поездки?  \n",
    "Если да, то пользователи с подпиской могут быть «выгоднее» для компании. Проверим гипотезу. "
   ]
  },
  {
   "cell_type": "markdown",
   "id": "2270a75b",
   "metadata": {},
   "source": [
    "Нам нужно понять, действительно ли среднее время поездок пользователей на платных тарифах выше.  \n",
    "Для этого мы воспользуемся т-тестом двух независимых выборок.  \n",
    "\n",
    "Нулевая гипотеза H0 будет звучать так: \"Среднее время поездок на платном тарифе = среднему времени на бесплатном\",\n",
    "Н1: \"Среднее время поездок на платном тарифе больше, чем среднее время на бесплатном\".  \n",
    "\n",
    "Для проверки, найдем р-значение - верояность случайно получить наблюдаемое или любое другое значение, при условии верности нулевой гипотезы.  \n",
    "Порог уровня статистической значимости примем за 5%.  \n",
    "И, т.к. Н1 у нас \"больше\", тест будет правосторонний.\n",
    " "
   ]
  },
  {
   "cell_type": "code",
   "execution_count": 72,
   "id": "a1ced872",
   "metadata": {},
   "outputs": [
    {
     "name": "stdout",
     "output_type": "stream",
     "text": [
      "p-значение: 2.4959453720736625e-34\n",
      "Отвергаем нулевую гипотезу\n",
      "Среднее время поездок для пользователей free: 18.0\n",
      "Среднее время поездок для пользователей ultra: 19.0\n"
     ]
    }
   ],
   "source": [
    "ultra = ultra_users['duration']\n",
    "\n",
    "free = free_users['duration']\n",
    "\n",
    "\n",
    "alpha = 0.05\n",
    " \n",
    "results = st.ttest_ind(ultra, free, alternative = 'greater')\n",
    " \n",
    "print('p-значение:', results.pvalue)\n",
    " \n",
    "if results.pvalue < alpha:\n",
    "    print('Отвергаем нулевую гипотезу')\n",
    "else:\n",
    "    print('Не получилось отвергнуть нулевую гипотезу')\n",
    "\n",
    "print('Среднее время поездок для пользователей free:', free_users['duration'].mean().round())\n",
    "print('Среднее время поездок для пользователей ultra:', ultra_users['duration'].mean().round())"
   ]
  },
  {
   "cell_type": "markdown",
   "id": "279e6bc3",
   "metadata": {},
   "source": [
    "**Мы получили р-значение очень близкое к 0, сильно меньше 5%, значит, нам нужно отвергнуть Н0 в пользу Н1 \"Среднее время поездок на платном тарифе больше, чем среднее время на бесплатном\".**"
   ]
  },
  {
   "cell_type": "markdown",
   "id": "71ace56c",
   "metadata": {},
   "source": [
    "##### Можно ли сказать, что среднее расстояние, которое проезжают пользователи с подпиской за одну поездку, не превышает 3130 метров? "
   ]
  },
  {
   "cell_type": "markdown",
   "id": "ed982219",
   "metadata": {},
   "source": [
    "Расстояние одной поездки в 3130 метров — оптимальное с точки зрения износа самоката. Можно ли сказать, что среднее расстояние, которое проезжают пользователи с подпиской за одну поездку, не превышает 3130 метров?  \n",
    "Проверим гипотезу и сделайте выводы."
   ]
  },
  {
   "cell_type": "markdown",
   "id": "588b4b5c",
   "metadata": {},
   "source": [
    "В данном т-тесте мы будем сравнивать среднее выборки с конкретны значением (3130м).  \n",
    "Н0: среднее расстояние, которое проезжают пользователи с подпиской за одну поездку, = 3130м  \n",
    "Н1 среднее расстояние, которое проезжают пользователи с подпиской за одну поездку, > 3130м.  \n",
    "\n",
    "Тест будет правосторонним, уровень стат.значимости так же примем за стандартные 5%."
   ]
  },
  {
   "cell_type": "code",
   "execution_count": 73,
   "id": "f5df6082",
   "metadata": {},
   "outputs": [
    {
     "name": "stdout",
     "output_type": "stream",
     "text": [
      "p-значение: 0.9195368847849785\n",
      "Не отвергаем нулевую гипотезу\n",
      "Среднее расстояние поездок для пользователей ultra: 3115.0\n"
     ]
    }
   ],
   "source": [
    "ultra = ultra_users['distance']\n",
    "\n",
    "optim = 3130\n",
    "\n",
    "alpha = 0.05\n",
    "\n",
    "results = st.ttest_1samp(\n",
    "    ultra, \n",
    "    optim,\n",
    "      alternative='greater')\n",
    "\n",
    "print('p-значение:', results.pvalue)\n",
    "\n",
    "if results.pvalue < alpha:\n",
    "    print('Отвергаем нулевую гипотезу')\n",
    "else:\n",
    "    print('Не отвергаем нулевую гипотезу') \n",
    "\n",
    "print('Среднее расстояние поездок для пользователей ultra:', ultra_users['distance'].mean().round())"
   ]
  },
  {
   "cell_type": "markdown",
   "id": "fad30a7e",
   "metadata": {},
   "source": [
    "**Вероятность получить случайное значение выше порога стат.значимости, это значит, что мы не можем отвергнуть нулевую гипотезу.**"
   ]
  },
  {
   "cell_type": "markdown",
   "id": "a8f26a1a",
   "metadata": {},
   "source": [
    "##### Будет ли помесячная выручка от пользователей с подпиской по месяцам выше, чем выручка от пользователей без подписки?"
   ]
  },
  {
   "cell_type": "markdown",
   "id": "06f34afa",
   "metadata": {},
   "source": [
    "Н0 Выручка от пользователей с подпиской и выручка от пользователей без подписки равны  \n",
    "\n",
    "Н1 Выручка от пользователей с подпиской выше, чем выручка от пользователей без подписки.  \n",
    "\n",
    "В тесте будем сравнивать две независимые выборки, тест будет правосторонним и уровень стат значимости стандартный."
   ]
  },
  {
   "cell_type": "code",
   "execution_count": 74,
   "id": "9884d3e6",
   "metadata": {},
   "outputs": [
    {
     "name": "stdout",
     "output_type": "stream",
     "text": [
      "p-значение: 1.8850394384715216e-31\n",
      "Отвергаем нулевую гипотезу\n",
      "Средняя помесячная выручка пользователей с подпиской: 363.0\n",
      "Средняя помесячная выручка пользователей без подписки: 329.0\n"
     ]
    }
   ],
   "source": [
    "ultra = agg_ultra['income']\n",
    "\n",
    "free = agg_free['income']\n",
    "\n",
    "\n",
    "alpha = 0.05\n",
    " \n",
    "results = st.ttest_ind(ultra, free, alternative = 'greater')\n",
    " \n",
    "print('p-значение:', results.pvalue)\n",
    " \n",
    "if results.pvalue < alpha:\n",
    "    print('Отвергаем нулевую гипотезу')\n",
    "else:\n",
    "    print('Не получилось отвергнуть нулевую гипотезу')\n",
    "\n",
    "print('Средняя помесячная выручка пользователей с подпиской:', agg_ultra['income'].mean().round())\n",
    "print('Средняя помесячная выручка пользователей без подписки:', agg_free['income'].mean().round())"
   ]
  },
  {
   "cell_type": "markdown",
   "id": "d259f013",
   "metadata": {},
   "source": [
    "**Р-значение вероятности случайного значения стремится к 0, а значит, мы должны отвергнуть Н0 о равенстве средней помесячной выручки пользователей с подпиской и без неё.**"
   ]
  },
  {
   "cell_type": "markdown",
   "id": "a0701e95",
   "metadata": {},
   "source": [
    "##### Теоритическое рассуждение"
   ]
  },
  {
   "cell_type": "markdown",
   "id": "7a351bfe",
   "metadata": {},
   "source": [
    "Представьте такую ситуацию: техническая команда сервиса обновила сервера, с которыми взаимодействует мобильное приложение. Она надеется, что из-за этого количество обращений в техподдержку значимо снизилось. Некоторый файл содержит для каждого пользователя данные о количестве обращений до обновления и после него. Какой тест вам понадобился бы для проверки этой гипотезы?  \n",
    "\n",
    "Нам бы подошел т-тест для сравнения двух зависимых (парных) выборок.  \n",
    "st.ttest_rel(before, after), тест был бы правосторонним.  \n",
    "Н0 before = after  \n",
    "Н1 before > after"
   ]
  },
  {
   "cell_type": "markdown",
   "id": "61213c5e",
   "metadata": {},
   "source": [
    "# Общий вывод"
   ]
  },
  {
   "cell_type": "markdown",
   "id": "0f2eea83",
   "metadata": {},
   "source": [
    "1. Мы ознакомились с данными и провели небольшую предобработку:  \n",
    "\n",
    "* Мы имеем информацию о 1534 пользователях сервиса GoFast  \n",
    "\n",
    "* Информация собрана по 8 городам (Тюмень, Омск, Москва, Ростов-на-Дону, Краснодар, Пятигорск, Екатеринбург, Сочи)  \n",
    "\n",
    "* Данные представлены за полный 2021г  \n",
    "\n",
    "* В данных нет пропусков  \n",
    "\n",
    "* Было небольшое количесто (меньше 2%) дубликатов в таблице о пользователях, мы их удалили  \n",
    "\n",
    "* Столбец с врменем пездки в минутах округлили вверх и привели к целочисленному типу данных\n",
    "\n",
    "* Изменили тип данных столбца date таблицы rides на верный (date) и удобный для работы  \n",
    "\n",
    "* Добавили стобец с Месяцем, извлеченным из даты в таблице о поездках.  \n",
    "\n",
    "* Объединили таблицы в один датасет для дальнейших исследований.  \n",
    "\n",
    "* Подсчитали выручку по месяцам от каждого пользователя в зависимости от подписки.\n",
    "\n",
    "\n",
    "2. Провели исследовательский анализ:  \n",
    "\n",
    "* Сервис представлен в 8 городах (Тюмень, Омск, Москва, Ростов-на-Дону, Краснодар, Пятигорск, Екатеринбург, Сочи), доли городов распределены доостаточно равномерно - от 11% до 14%, больше всего пользователей из Пятигорска, меньше всего из Москвы.  \n",
    "\n",
    "* 46% пользователей пользуются платной подпиской.  \n",
    "\n",
    "* Возраст пользователей распределен от 12 до 43 лет. Основная часть - от 22 до 27 лет.При этом, старше 34 пользователей совсем немного.  \n",
    "\n",
    "* Самые частые пездки примерно от 2,5 км до 3,7км.  \n",
    "\n",
    "* По времени основная доля поездок от 14 до 22 минут.  \n",
    "\n",
    "* Наличие или отсутствие платной подписки, на первый взгляд, не слишком влияют на средние показатели расстояния и времени одной поездки. Средние показатели времени на 1мин больше на платном тарифе, Средние расстояния всего на пару сотен метров.  \n",
    "\n",
    "3. Проверили несколько гипотез:  \n",
    "\n",
    "1) Тратят ли пользователи с подпиской больше времени на поездки? Если да, то пользователи с подпиской могут быть «выгоднее» для компании.  \n",
    "  * По результатам т-теста нам нужно отвергнуть гипотезу о равенстве среднего времени поездки в пользу гипотезы \"Среднее время поездок на платном тарифе больше, чем среднее время на бесплатном\".  \n",
    "  \n",
    "2) Расстояние одной поездки в 3130 метров — оптимальное с точки зрения износа самоката. Можно ли сказать, что среднее расстояние, которое проезжают пользователи с подпиской за одну поездку, не превышает 3130 метров?  \n",
    "  * Нам не удалось отвергнуть гипотезу о том, что среднее расстояние, которое проезжают пользователи с подпиской за одну поездку, ровняется 3130м.  \n",
    "  \n",
    "3) Будет ли помесячная выручка от пользователей с подпиской по месяцам выше, чем выручка от пользователей без подписки.  \n",
    "  * Отвергли гипотезу о равенстве помесячной выручки пользователей с подпиской и без в пользу гипотезы, что выручка от пользователей с подпиской по месяцам выше.  \n",
    "  \n",
    "\n",
    "**Итоговый вывод:**  \n",
    "  На основании проведенных исследований и тестов, можно сказать, что клиенты с платной подпиской для компании более выгодны, чем без неё."
   ]
  },
  {
   "cell_type": "code",
   "execution_count": null,
   "id": "5cff3845",
   "metadata": {},
   "outputs": [],
   "source": []
  }
 ],
 "metadata": {
  "ExecuteTimeLog": [
   {
    "duration": 1397,
    "start_time": "2023-08-27T11:34:47.302Z"
   },
   {
    "duration": 390,
    "start_time": "2023-08-27T11:36:02.129Z"
   },
   {
    "duration": 108,
    "start_time": "2023-08-27T11:37:18.109Z"
   },
   {
    "duration": 34,
    "start_time": "2023-08-27T11:37:25.353Z"
   },
   {
    "duration": 14,
    "start_time": "2023-08-27T11:38:01.352Z"
   },
   {
    "duration": 307,
    "start_time": "2023-08-27T11:38:09.152Z"
   },
   {
    "duration": 91,
    "start_time": "2023-08-27T11:38:26.827Z"
   },
   {
    "duration": 9,
    "start_time": "2023-08-27T11:38:27.606Z"
   },
   {
    "duration": 11,
    "start_time": "2023-08-27T11:38:29.883Z"
   },
   {
    "duration": 345,
    "start_time": "2023-08-27T11:38:31.169Z"
   },
   {
    "duration": 95,
    "start_time": "2023-08-27T11:50:42.880Z"
   },
   {
    "duration": 510,
    "start_time": "2023-08-27T11:50:50.884Z"
   },
   {
    "duration": 12,
    "start_time": "2023-08-27T11:52:01.172Z"
   },
   {
    "duration": 94,
    "start_time": "2023-08-27T11:52:26.324Z"
   },
   {
    "duration": 10,
    "start_time": "2023-08-27T11:52:27.140Z"
   },
   {
    "duration": 10,
    "start_time": "2023-08-27T11:52:28.330Z"
   },
   {
    "duration": 10,
    "start_time": "2023-08-27T11:52:29.426Z"
   },
   {
    "duration": 52,
    "start_time": "2023-08-28T11:01:26.561Z"
   },
   {
    "duration": 1450,
    "start_time": "2023-08-28T11:01:41.310Z"
   },
   {
    "duration": 104,
    "start_time": "2023-08-28T11:01:43.406Z"
   },
   {
    "duration": 106,
    "start_time": "2023-08-28T11:03:42.348Z"
   },
   {
    "duration": 5,
    "start_time": "2023-08-28T11:06:26.732Z"
   },
   {
    "duration": 4,
    "start_time": "2023-08-28T11:06:43.103Z"
   },
   {
    "duration": 5,
    "start_time": "2023-08-28T11:08:10.092Z"
   },
   {
    "duration": 4,
    "start_time": "2023-08-28T11:09:10.000Z"
   },
   {
    "duration": 55,
    "start_time": "2023-08-28T11:09:14.634Z"
   },
   {
    "duration": 4,
    "start_time": "2023-08-28T11:09:20.347Z"
   },
   {
    "duration": 48,
    "start_time": "2023-08-28T11:09:23.135Z"
   },
   {
    "duration": 44,
    "start_time": "2023-08-28T11:10:50.038Z"
   },
   {
    "duration": 49,
    "start_time": "2023-08-28T11:11:39.037Z"
   },
   {
    "duration": 54,
    "start_time": "2023-08-28T11:12:35.003Z"
   },
   {
    "duration": 48,
    "start_time": "2023-08-28T11:12:47.017Z"
   },
   {
    "duration": 3,
    "start_time": "2023-08-28T11:13:36.599Z"
   },
   {
    "duration": 49,
    "start_time": "2023-08-28T11:14:05.262Z"
   },
   {
    "duration": 46,
    "start_time": "2023-08-28T11:14:36.079Z"
   },
   {
    "duration": 42,
    "start_time": "2023-08-28T11:15:01.507Z"
   },
   {
    "duration": 46,
    "start_time": "2023-08-28T11:15:10.206Z"
   },
   {
    "duration": 50,
    "start_time": "2023-08-28T11:16:09.422Z"
   },
   {
    "duration": 49,
    "start_time": "2023-08-28T11:16:43.762Z"
   },
   {
    "duration": 54,
    "start_time": "2023-08-28T11:16:52.500Z"
   },
   {
    "duration": 49,
    "start_time": "2023-08-28T11:17:00.530Z"
   },
   {
    "duration": 48,
    "start_time": "2023-08-28T11:17:07.828Z"
   },
   {
    "duration": 109,
    "start_time": "2023-08-28T11:17:16.585Z"
   },
   {
    "duration": 49,
    "start_time": "2023-08-28T11:17:23.399Z"
   },
   {
    "duration": 47,
    "start_time": "2023-08-28T11:17:49.269Z"
   },
   {
    "duration": 50,
    "start_time": "2023-08-28T11:18:15.920Z"
   },
   {
    "duration": 46,
    "start_time": "2023-08-28T11:18:26.896Z"
   },
   {
    "duration": 6,
    "start_time": "2023-08-28T11:28:27.202Z"
   },
   {
    "duration": 121,
    "start_time": "2023-08-28T11:29:43.007Z"
   },
   {
    "duration": 72,
    "start_time": "2023-08-28T11:32:35.901Z"
   },
   {
    "duration": 13,
    "start_time": "2023-08-28T11:35:30.988Z"
   },
   {
    "duration": 31,
    "start_time": "2023-08-28T11:36:00.109Z"
   },
   {
    "duration": 3,
    "start_time": "2023-08-28T11:36:33.560Z"
   },
   {
    "duration": 32,
    "start_time": "2023-08-28T11:38:37.692Z"
   },
   {
    "duration": 9,
    "start_time": "2023-08-28T11:39:55.186Z"
   },
   {
    "duration": 5,
    "start_time": "2023-08-28T11:40:03.883Z"
   },
   {
    "duration": 7,
    "start_time": "2023-08-28T11:40:59.605Z"
   },
   {
    "duration": 11,
    "start_time": "2023-08-28T11:49:10.662Z"
   },
   {
    "duration": 81,
    "start_time": "2023-08-28T11:50:40.002Z"
   },
   {
    "duration": 8,
    "start_time": "2023-08-28T11:50:53.582Z"
   },
   {
    "duration": 7,
    "start_time": "2023-08-28T11:51:53.204Z"
   },
   {
    "duration": 9,
    "start_time": "2023-08-28T11:52:37.585Z"
   },
   {
    "duration": 11,
    "start_time": "2023-08-28T11:52:56.495Z"
   },
   {
    "duration": 7,
    "start_time": "2023-08-28T11:53:50.736Z"
   },
   {
    "duration": 12,
    "start_time": "2023-08-28T11:54:05.736Z"
   },
   {
    "duration": 9,
    "start_time": "2023-08-28T11:54:13.946Z"
   },
   {
    "duration": 15,
    "start_time": "2023-08-28T11:56:45.719Z"
   },
   {
    "duration": 230,
    "start_time": "2023-08-28T12:12:39.605Z"
   },
   {
    "duration": 99,
    "start_time": "2023-08-28T12:13:56.352Z"
   },
   {
    "duration": 166,
    "start_time": "2023-08-28T12:14:02.866Z"
   },
   {
    "duration": 171,
    "start_time": "2023-08-28T12:14:18.293Z"
   },
   {
    "duration": 156,
    "start_time": "2023-08-28T12:14:39.513Z"
   },
   {
    "duration": 142,
    "start_time": "2023-08-28T12:19:06.712Z"
   },
   {
    "duration": 150,
    "start_time": "2023-08-28T12:19:52.780Z"
   },
   {
    "duration": 202,
    "start_time": "2023-08-28T12:20:17.766Z"
   },
   {
    "duration": 169,
    "start_time": "2023-08-28T12:20:51.923Z"
   },
   {
    "duration": 294,
    "start_time": "2023-08-28T12:24:38.799Z"
   },
   {
    "duration": 160,
    "start_time": "2023-08-28T12:30:34.011Z"
   },
   {
    "duration": 151,
    "start_time": "2023-08-28T12:30:56.020Z"
   },
   {
    "duration": 186,
    "start_time": "2023-08-28T12:38:40.454Z"
   },
   {
    "duration": 149,
    "start_time": "2023-08-28T13:50:10.556Z"
   },
   {
    "duration": 166,
    "start_time": "2023-08-28T13:50:22.016Z"
   },
   {
    "duration": 1859,
    "start_time": "2023-08-28T13:50:29.158Z"
   },
   {
    "duration": 6,
    "start_time": "2023-08-28T13:51:16.910Z"
   },
   {
    "duration": 6,
    "start_time": "2023-08-28T13:51:16.919Z"
   },
   {
    "duration": 57,
    "start_time": "2023-08-28T13:51:16.927Z"
   },
   {
    "duration": 18,
    "start_time": "2023-08-28T13:51:16.986Z"
   },
   {
    "duration": 61,
    "start_time": "2023-08-28T13:51:17.012Z"
   },
   {
    "duration": 70,
    "start_time": "2023-08-28T13:51:17.075Z"
   },
   {
    "duration": 5,
    "start_time": "2023-08-28T13:51:17.147Z"
   },
   {
    "duration": 12,
    "start_time": "2023-08-28T13:51:17.153Z"
   },
   {
    "duration": 7,
    "start_time": "2023-08-28T13:51:17.166Z"
   },
   {
    "duration": 10,
    "start_time": "2023-08-28T13:51:17.175Z"
   },
   {
    "duration": 185,
    "start_time": "2023-08-28T13:51:17.187Z"
   },
   {
    "duration": 176,
    "start_time": "2023-08-28T13:51:17.374Z"
   },
   {
    "duration": 1730,
    "start_time": "2023-08-28T13:51:20.485Z"
   },
   {
    "duration": 165,
    "start_time": "2023-08-28T13:52:17.850Z"
   },
   {
    "duration": 143,
    "start_time": "2023-08-28T13:52:27.317Z"
   },
   {
    "duration": 121,
    "start_time": "2023-08-28T13:52:38.233Z"
   },
   {
    "duration": 160,
    "start_time": "2023-08-28T13:53:05.826Z"
   },
   {
    "duration": 113,
    "start_time": "2023-08-28T13:53:20.153Z"
   },
   {
    "duration": 109,
    "start_time": "2023-08-28T13:55:20.350Z"
   },
   {
    "duration": 105,
    "start_time": "2023-08-28T13:55:30.188Z"
   },
   {
    "duration": 117,
    "start_time": "2023-08-28T13:55:47.794Z"
   },
   {
    "duration": 115,
    "start_time": "2023-08-28T13:55:53.045Z"
   },
   {
    "duration": 25,
    "start_time": "2023-08-28T15:27:03.097Z"
   },
   {
    "duration": 18,
    "start_time": "2023-08-28T15:29:52.767Z"
   },
   {
    "duration": 280,
    "start_time": "2023-08-28T15:30:07.253Z"
   },
   {
    "duration": 193,
    "start_time": "2023-08-28T15:30:19.016Z"
   },
   {
    "duration": 182,
    "start_time": "2023-08-28T15:58:48.092Z"
   },
   {
    "duration": 147,
    "start_time": "2023-08-28T15:59:11.716Z"
   },
   {
    "duration": 306,
    "start_time": "2023-08-28T15:59:20.444Z"
   },
   {
    "duration": 661,
    "start_time": "2023-08-28T15:59:54.388Z"
   },
   {
    "duration": 615,
    "start_time": "2023-08-28T16:30:51.678Z"
   },
   {
    "duration": 13,
    "start_time": "2023-08-28T16:34:12.412Z"
   },
   {
    "duration": 11,
    "start_time": "2023-08-28T16:34:19.822Z"
   },
   {
    "duration": 149,
    "start_time": "2023-08-28T16:34:38.096Z"
   },
   {
    "duration": 138,
    "start_time": "2023-08-28T16:35:11.794Z"
   },
   {
    "duration": 110,
    "start_time": "2023-08-28T16:35:32.638Z"
   },
   {
    "duration": 112,
    "start_time": "2023-08-28T16:35:44.151Z"
   },
   {
    "duration": 125,
    "start_time": "2023-08-28T16:35:57.008Z"
   },
   {
    "duration": 134,
    "start_time": "2023-08-28T16:36:23.979Z"
   },
   {
    "duration": 128,
    "start_time": "2023-08-28T16:36:37.861Z"
   },
   {
    "duration": 359,
    "start_time": "2023-08-28T16:36:53.175Z"
   },
   {
    "duration": 369,
    "start_time": "2023-08-28T16:37:03.481Z"
   },
   {
    "duration": 538,
    "start_time": "2023-08-28T16:43:33.350Z"
   },
   {
    "duration": 18,
    "start_time": "2023-08-28T16:55:46.979Z"
   },
   {
    "duration": 15,
    "start_time": "2023-08-28T16:55:55.222Z"
   },
   {
    "duration": 16,
    "start_time": "2023-08-28T16:55:57.436Z"
   },
   {
    "duration": 43,
    "start_time": "2023-08-28T16:56:09.397Z"
   },
   {
    "duration": 38,
    "start_time": "2023-08-28T16:57:26.786Z"
   },
   {
    "duration": 643,
    "start_time": "2023-08-28T16:58:54.490Z"
   },
   {
    "duration": 710,
    "start_time": "2023-08-28T17:00:06.776Z"
   },
   {
    "duration": 10,
    "start_time": "2023-08-28T17:01:55.146Z"
   },
   {
    "duration": 965,
    "start_time": "2023-08-28T17:07:45.784Z"
   },
   {
    "duration": 809,
    "start_time": "2023-08-28T17:08:16.841Z"
   },
   {
    "duration": 863,
    "start_time": "2023-08-28T17:08:47.370Z"
   },
   {
    "duration": 1061,
    "start_time": "2023-08-28T17:09:01.800Z"
   },
   {
    "duration": 887,
    "start_time": "2023-08-28T17:11:52.725Z"
   },
   {
    "duration": 144,
    "start_time": "2023-08-28T17:12:33.882Z"
   },
   {
    "duration": 998,
    "start_time": "2023-08-28T17:15:19.307Z"
   },
   {
    "duration": 1006,
    "start_time": "2023-08-28T17:15:54.565Z"
   },
   {
    "duration": 802,
    "start_time": "2023-08-28T17:16:50.754Z"
   },
   {
    "duration": 950,
    "start_time": "2023-08-28T17:17:06.067Z"
   },
   {
    "duration": 815,
    "start_time": "2023-08-28T17:19:04.861Z"
   },
   {
    "duration": 664,
    "start_time": "2023-08-28T17:19:43.490Z"
   },
   {
    "duration": 807,
    "start_time": "2023-08-28T17:19:48.873Z"
   },
   {
    "duration": 508,
    "start_time": "2023-08-28T17:19:59.630Z"
   },
   {
    "duration": 278,
    "start_time": "2023-08-28T17:20:13.803Z"
   },
   {
    "duration": 600,
    "start_time": "2023-08-28T17:20:24.171Z"
   },
   {
    "duration": 597,
    "start_time": "2023-08-28T17:20:34.199Z"
   },
   {
    "duration": 172,
    "start_time": "2023-08-28T17:20:42.482Z"
   },
   {
    "duration": 905,
    "start_time": "2023-08-28T17:21:07.621Z"
   },
   {
    "duration": 797,
    "start_time": "2023-08-28T17:21:20.863Z"
   },
   {
    "duration": 913,
    "start_time": "2023-08-28T17:21:50.223Z"
   },
   {
    "duration": 885,
    "start_time": "2023-08-28T17:28:42.210Z"
   },
   {
    "duration": 840,
    "start_time": "2023-08-28T17:29:08.711Z"
   },
   {
    "duration": 1004,
    "start_time": "2023-08-28T17:29:20.898Z"
   },
   {
    "duration": 879,
    "start_time": "2023-08-28T17:29:37.710Z"
   },
   {
    "duration": 955,
    "start_time": "2023-08-28T17:29:46.614Z"
   },
   {
    "duration": 859,
    "start_time": "2023-08-28T17:30:00.252Z"
   },
   {
    "duration": 684,
    "start_time": "2023-08-28T17:30:28.614Z"
   },
   {
    "duration": 541,
    "start_time": "2023-08-28T17:31:32.804Z"
   },
   {
    "duration": 510,
    "start_time": "2023-08-28T17:32:03.362Z"
   },
   {
    "duration": 682,
    "start_time": "2023-08-28T17:32:17.851Z"
   },
   {
    "duration": 542,
    "start_time": "2023-08-28T17:32:28.348Z"
   },
   {
    "duration": 179,
    "start_time": "2023-08-28T17:33:02.887Z"
   },
   {
    "duration": 50,
    "start_time": "2023-08-29T10:14:55.809Z"
   },
   {
    "duration": 1514,
    "start_time": "2023-08-29T10:15:02.920Z"
   },
   {
    "duration": 3,
    "start_time": "2023-08-29T10:15:04.436Z"
   },
   {
    "duration": 120,
    "start_time": "2023-08-29T10:15:04.440Z"
   },
   {
    "duration": 13,
    "start_time": "2023-08-29T10:15:04.562Z"
   },
   {
    "duration": 95,
    "start_time": "2023-08-29T10:15:04.578Z"
   },
   {
    "duration": 71,
    "start_time": "2023-08-29T10:15:04.674Z"
   },
   {
    "duration": 4,
    "start_time": "2023-08-29T10:15:04.747Z"
   },
   {
    "duration": 33,
    "start_time": "2023-08-29T10:15:04.752Z"
   },
   {
    "duration": 16,
    "start_time": "2023-08-29T10:15:04.786Z"
   },
   {
    "duration": 6,
    "start_time": "2023-08-29T10:15:04.804Z"
   },
   {
    "duration": 178,
    "start_time": "2023-08-29T10:15:04.812Z"
   },
   {
    "duration": 160,
    "start_time": "2023-08-29T10:15:04.992Z"
   },
   {
    "duration": 116,
    "start_time": "2023-08-29T10:15:05.154Z"
   },
   {
    "duration": 213,
    "start_time": "2023-08-29T10:15:05.274Z"
   },
   {
    "duration": 671,
    "start_time": "2023-08-29T10:15:05.489Z"
   },
   {
    "duration": 240,
    "start_time": "2023-08-29T10:15:06.163Z"
   },
   {
    "duration": 543,
    "start_time": "2023-08-29T10:15:06.405Z"
   },
   {
    "duration": 29,
    "start_time": "2023-08-29T10:15:06.950Z"
   },
   {
    "duration": 31,
    "start_time": "2023-08-29T10:15:15.228Z"
   },
   {
    "duration": 176,
    "start_time": "2023-08-29T10:32:12.555Z"
   },
   {
    "duration": 573,
    "start_time": "2023-08-29T10:32:23.403Z"
   },
   {
    "duration": 16,
    "start_time": "2023-08-29T10:32:54.178Z"
   },
   {
    "duration": 33,
    "start_time": "2023-08-29T10:34:24.372Z"
   },
   {
    "duration": 27,
    "start_time": "2023-08-29T10:38:17.839Z"
   },
   {
    "duration": 24,
    "start_time": "2023-08-29T10:38:44.609Z"
   },
   {
    "duration": 96,
    "start_time": "2023-08-29T10:39:23.324Z"
   },
   {
    "duration": 29,
    "start_time": "2023-08-29T10:40:48.580Z"
   },
   {
    "duration": 30,
    "start_time": "2023-08-29T10:42:20.919Z"
   },
   {
    "duration": 12,
    "start_time": "2023-08-29T10:46:55.043Z"
   },
   {
    "duration": 29,
    "start_time": "2023-08-29T10:47:08.466Z"
   },
   {
    "duration": 26,
    "start_time": "2023-08-29T10:55:36.222Z"
   },
   {
    "duration": 690,
    "start_time": "2023-08-29T11:01:21.065Z"
   },
   {
    "duration": 399,
    "start_time": "2023-08-29T11:01:35.653Z"
   },
   {
    "duration": 210,
    "start_time": "2023-08-29T11:01:59.864Z"
   },
   {
    "duration": 1734,
    "start_time": "2023-08-29T11:02:58.059Z"
   },
   {
    "duration": 24,
    "start_time": "2023-08-29T11:04:19.485Z"
   },
   {
    "duration": 22,
    "start_time": "2023-08-29T11:04:25.477Z"
   },
   {
    "duration": 839,
    "start_time": "2023-08-29T11:06:31.422Z"
   },
   {
    "duration": 9,
    "start_time": "2023-08-29T11:06:36.515Z"
   },
   {
    "duration": 6,
    "start_time": "2023-08-29T11:06:45.469Z"
   },
   {
    "duration": 3,
    "start_time": "2023-08-29T11:06:59.447Z"
   },
   {
    "duration": 847,
    "start_time": "2023-08-29T11:07:39.374Z"
   },
   {
    "duration": 85,
    "start_time": "2023-08-29T11:09:41.055Z"
   },
   {
    "duration": 120,
    "start_time": "2023-08-29T11:10:16.631Z"
   },
   {
    "duration": 786,
    "start_time": "2023-08-29T11:12:12.829Z"
   },
   {
    "duration": 875,
    "start_time": "2023-08-29T11:12:24.749Z"
   },
   {
    "duration": 830,
    "start_time": "2023-08-29T11:12:39.882Z"
   },
   {
    "duration": 837,
    "start_time": "2023-08-29T11:13:06.492Z"
   },
   {
    "duration": 15,
    "start_time": "2023-08-29T11:13:21.014Z"
   },
   {
    "duration": 173,
    "start_time": "2023-08-29T11:16:47.689Z"
   },
   {
    "duration": 14,
    "start_time": "2023-08-29T11:17:45.027Z"
   },
   {
    "duration": 16,
    "start_time": "2023-08-29T11:20:36.511Z"
   },
   {
    "duration": 13,
    "start_time": "2023-08-29T11:21:15.466Z"
   },
   {
    "duration": 15,
    "start_time": "2023-08-29T11:21:22.222Z"
   },
   {
    "duration": 87,
    "start_time": "2023-08-29T11:24:01.915Z"
   },
   {
    "duration": 144,
    "start_time": "2023-08-29T11:24:43.968Z"
   },
   {
    "duration": 385,
    "start_time": "2023-08-29T11:24:58.053Z"
   },
   {
    "duration": 18,
    "start_time": "2023-08-29T11:26:12.982Z"
   },
   {
    "duration": 20,
    "start_time": "2023-08-29T11:27:53.882Z"
   },
   {
    "duration": 15,
    "start_time": "2023-08-29T11:28:06.033Z"
   },
   {
    "duration": 11,
    "start_time": "2023-08-29T11:48:26.867Z"
   },
   {
    "duration": 11,
    "start_time": "2023-08-29T11:49:31.065Z"
   },
   {
    "duration": 10,
    "start_time": "2023-08-29T11:50:59.624Z"
   },
   {
    "duration": 3,
    "start_time": "2023-08-29T11:51:07.208Z"
   },
   {
    "duration": 13,
    "start_time": "2023-08-29T11:51:07.212Z"
   },
   {
    "duration": 67,
    "start_time": "2023-08-29T11:51:07.227Z"
   },
   {
    "duration": 12,
    "start_time": "2023-08-29T11:51:07.295Z"
   },
   {
    "duration": 66,
    "start_time": "2023-08-29T11:51:07.309Z"
   },
   {
    "duration": 22,
    "start_time": "2023-08-29T11:51:07.377Z"
   },
   {
    "duration": 6,
    "start_time": "2023-08-29T11:51:07.401Z"
   },
   {
    "duration": 21,
    "start_time": "2023-08-29T11:51:07.409Z"
   },
   {
    "duration": 9,
    "start_time": "2023-08-29T11:51:07.432Z"
   },
   {
    "duration": 18,
    "start_time": "2023-08-29T11:51:07.442Z"
   },
   {
    "duration": 158,
    "start_time": "2023-08-29T11:51:07.462Z"
   },
   {
    "duration": 151,
    "start_time": "2023-08-29T11:51:07.622Z"
   },
   {
    "duration": 104,
    "start_time": "2023-08-29T11:51:07.775Z"
   },
   {
    "duration": 188,
    "start_time": "2023-08-29T11:51:07.881Z"
   },
   {
    "duration": 639,
    "start_time": "2023-08-29T11:51:08.070Z"
   },
   {
    "duration": 251,
    "start_time": "2023-08-29T11:51:08.711Z"
   },
   {
    "duration": 551,
    "start_time": "2023-08-29T11:51:08.964Z"
   },
   {
    "duration": 34,
    "start_time": "2023-08-29T11:51:09.517Z"
   },
   {
    "duration": 11,
    "start_time": "2023-08-29T11:51:09.552Z"
   },
   {
    "duration": 963,
    "start_time": "2023-08-29T11:51:09.565Z"
   },
   {
    "duration": 901,
    "start_time": "2023-08-29T11:51:10.529Z"
   },
   {
    "duration": 969,
    "start_time": "2023-08-29T11:51:11.432Z"
   },
   {
    "duration": 22,
    "start_time": "2023-08-29T11:51:12.410Z"
   },
   {
    "duration": 10,
    "start_time": "2023-08-29T11:51:12.435Z"
   },
   {
    "duration": 8,
    "start_time": "2023-08-29T11:51:53.828Z"
   },
   {
    "duration": 9,
    "start_time": "2023-08-29T11:52:23.240Z"
   },
   {
    "duration": 9,
    "start_time": "2023-08-29T11:52:29.500Z"
   },
   {
    "duration": 8,
    "start_time": "2023-08-29T11:52:38.308Z"
   },
   {
    "duration": 7,
    "start_time": "2023-08-29T11:52:48.911Z"
   },
   {
    "duration": 103,
    "start_time": "2023-08-29T12:00:27.784Z"
   },
   {
    "duration": 6,
    "start_time": "2023-08-29T12:30:12.367Z"
   },
   {
    "duration": 102,
    "start_time": "2023-08-29T12:37:22.507Z"
   },
   {
    "duration": 12,
    "start_time": "2023-08-29T12:38:58.627Z"
   },
   {
    "duration": 16,
    "start_time": "2023-08-29T12:39:22.711Z"
   },
   {
    "duration": 12,
    "start_time": "2023-08-29T12:39:37.375Z"
   },
   {
    "duration": 11,
    "start_time": "2023-08-29T12:40:37.259Z"
   },
   {
    "duration": 19,
    "start_time": "2023-08-29T12:40:53.106Z"
   },
   {
    "duration": 14,
    "start_time": "2023-08-29T12:41:43.582Z"
   },
   {
    "duration": 14,
    "start_time": "2023-08-29T12:41:51.246Z"
   },
   {
    "duration": 11,
    "start_time": "2023-08-29T12:44:26.100Z"
   },
   {
    "duration": 13,
    "start_time": "2023-08-29T12:44:38.138Z"
   },
   {
    "duration": 9,
    "start_time": "2023-08-29T12:48:50.885Z"
   },
   {
    "duration": 11,
    "start_time": "2023-08-29T12:52:28.624Z"
   },
   {
    "duration": 8,
    "start_time": "2023-08-29T12:53:13.957Z"
   },
   {
    "duration": 10,
    "start_time": "2023-08-29T13:45:28.646Z"
   },
   {
    "duration": 6,
    "start_time": "2023-08-29T13:45:36.017Z"
   },
   {
    "duration": 5,
    "start_time": "2023-08-29T13:47:31.247Z"
   },
   {
    "duration": 6,
    "start_time": "2023-08-29T13:47:47.398Z"
   },
   {
    "duration": 8,
    "start_time": "2023-08-29T14:01:02.895Z"
   },
   {
    "duration": 3,
    "start_time": "2023-08-29T14:01:23.605Z"
   },
   {
    "duration": 5,
    "start_time": "2023-08-29T14:01:35.361Z"
   },
   {
    "duration": 5,
    "start_time": "2023-08-29T14:01:50.658Z"
   },
   {
    "duration": 106,
    "start_time": "2023-08-29T15:33:15.427Z"
   },
   {
    "duration": 4,
    "start_time": "2023-08-29T15:48:33.819Z"
   },
   {
    "duration": 3,
    "start_time": "2023-08-29T15:48:38.322Z"
   },
   {
    "duration": 50,
    "start_time": "2023-08-29T15:48:45.688Z"
   },
   {
    "duration": 14,
    "start_time": "2023-08-29T15:48:53.403Z"
   },
   {
    "duration": 177,
    "start_time": "2023-08-29T15:49:03.197Z"
   },
   {
    "duration": 33,
    "start_time": "2023-08-29T15:49:07.532Z"
   },
   {
    "duration": 5,
    "start_time": "2023-08-29T15:49:17.852Z"
   },
   {
    "duration": 7,
    "start_time": "2023-08-29T15:49:25.649Z"
   },
   {
    "duration": 9,
    "start_time": "2023-08-29T15:49:28.999Z"
   },
   {
    "duration": 8,
    "start_time": "2023-08-29T15:49:32.517Z"
   },
   {
    "duration": 176,
    "start_time": "2023-08-29T15:49:42.089Z"
   },
   {
    "duration": 160,
    "start_time": "2023-08-29T15:49:44.426Z"
   },
   {
    "duration": 97,
    "start_time": "2023-08-29T15:49:48.456Z"
   },
   {
    "duration": 179,
    "start_time": "2023-08-29T15:49:51.232Z"
   },
   {
    "duration": 560,
    "start_time": "2023-08-29T15:49:53.790Z"
   },
   {
    "duration": 236,
    "start_time": "2023-08-29T15:49:56.151Z"
   },
   {
    "duration": 639,
    "start_time": "2023-08-29T15:49:58.668Z"
   },
   {
    "duration": 36,
    "start_time": "2023-08-29T15:50:01.737Z"
   },
   {
    "duration": 11,
    "start_time": "2023-08-29T15:50:03.210Z"
   },
   {
    "duration": 884,
    "start_time": "2023-08-29T15:50:09.552Z"
   },
   {
    "duration": 982,
    "start_time": "2023-08-29T15:50:10.728Z"
   },
   {
    "duration": 858,
    "start_time": "2023-08-29T15:50:15.886Z"
   },
   {
    "duration": 16,
    "start_time": "2023-08-29T15:50:16.747Z"
   },
   {
    "duration": 10,
    "start_time": "2023-08-29T15:50:17.934Z"
   },
   {
    "duration": 8,
    "start_time": "2023-08-29T15:50:24.996Z"
   },
   {
    "duration": 6,
    "start_time": "2023-08-29T15:50:28.031Z"
   },
   {
    "duration": 8,
    "start_time": "2023-08-29T15:50:30.263Z"
   },
   {
    "duration": 1254,
    "start_time": "2023-08-29T16:38:20.655Z"
   },
   {
    "duration": 6,
    "start_time": "2023-08-29T16:38:21.912Z"
   },
   {
    "duration": 128,
    "start_time": "2023-08-29T16:38:21.920Z"
   },
   {
    "duration": 18,
    "start_time": "2023-08-29T16:38:22.051Z"
   },
   {
    "duration": 101,
    "start_time": "2023-08-29T16:38:22.071Z"
   },
   {
    "duration": 62,
    "start_time": "2023-08-29T16:38:22.173Z"
   },
   {
    "duration": 6,
    "start_time": "2023-08-29T16:38:22.237Z"
   },
   {
    "duration": 15,
    "start_time": "2023-08-29T16:38:22.245Z"
   },
   {
    "duration": 27,
    "start_time": "2023-08-29T16:38:22.262Z"
   },
   {
    "duration": 18,
    "start_time": "2023-08-29T16:38:22.292Z"
   },
   {
    "duration": 216,
    "start_time": "2023-08-29T16:38:22.316Z"
   },
   {
    "duration": 177,
    "start_time": "2023-08-29T16:38:22.534Z"
   },
   {
    "duration": 133,
    "start_time": "2023-08-29T16:38:22.713Z"
   },
   {
    "duration": 202,
    "start_time": "2023-08-29T16:38:22.848Z"
   },
   {
    "duration": 610,
    "start_time": "2023-08-29T16:38:23.052Z"
   },
   {
    "duration": 379,
    "start_time": "2023-08-29T16:38:23.663Z"
   },
   {
    "duration": 716,
    "start_time": "2023-08-29T16:38:24.044Z"
   },
   {
    "duration": 69,
    "start_time": "2023-08-29T16:38:24.763Z"
   },
   {
    "duration": 17,
    "start_time": "2023-08-29T16:38:24.834Z"
   },
   {
    "duration": 35,
    "start_time": "2023-08-29T16:38:24.854Z"
   },
   {
    "duration": 1134,
    "start_time": "2023-08-29T16:38:38.188Z"
   },
   {
    "duration": 1080,
    "start_time": "2023-08-29T16:38:39.324Z"
   },
   {
    "duration": 1719,
    "start_time": "2023-08-29T16:38:40.406Z"
   },
   {
    "duration": 16,
    "start_time": "2023-08-29T16:38:42.128Z"
   },
   {
    "duration": 60,
    "start_time": "2023-08-29T16:38:42.145Z"
   },
   {
    "duration": 25,
    "start_time": "2023-08-29T16:38:42.207Z"
   },
   {
    "duration": 27,
    "start_time": "2023-08-29T16:38:42.233Z"
   },
   {
    "duration": 48,
    "start_time": "2023-08-29T16:38:42.262Z"
   },
   {
    "duration": 1350,
    "start_time": "2023-08-29T16:50:54.604Z"
   },
   {
    "duration": 4,
    "start_time": "2023-08-29T16:50:55.956Z"
   },
   {
    "duration": 80,
    "start_time": "2023-08-29T16:50:55.962Z"
   },
   {
    "duration": 12,
    "start_time": "2023-08-29T16:50:56.044Z"
   },
   {
    "duration": 78,
    "start_time": "2023-08-29T16:50:56.058Z"
   },
   {
    "duration": 21,
    "start_time": "2023-08-29T16:50:56.138Z"
   },
   {
    "duration": 5,
    "start_time": "2023-08-29T16:50:56.161Z"
   },
   {
    "duration": 34,
    "start_time": "2023-08-29T16:50:56.167Z"
   },
   {
    "duration": 13,
    "start_time": "2023-08-29T16:50:56.203Z"
   },
   {
    "duration": 15,
    "start_time": "2023-08-29T16:50:56.220Z"
   },
   {
    "duration": 194,
    "start_time": "2023-08-29T16:50:56.237Z"
   },
   {
    "duration": 172,
    "start_time": "2023-08-29T16:50:56.433Z"
   },
   {
    "duration": 132,
    "start_time": "2023-08-29T16:50:56.607Z"
   },
   {
    "duration": 208,
    "start_time": "2023-08-29T16:50:56.741Z"
   },
   {
    "duration": 724,
    "start_time": "2023-08-29T16:50:56.951Z"
   },
   {
    "duration": 339,
    "start_time": "2023-08-29T16:50:57.676Z"
   },
   {
    "duration": 576,
    "start_time": "2023-08-29T16:50:58.017Z"
   },
   {
    "duration": 44,
    "start_time": "2023-08-29T16:50:58.594Z"
   },
   {
    "duration": 15,
    "start_time": "2023-08-29T16:50:58.640Z"
   },
   {
    "duration": 2257,
    "start_time": "2023-08-29T16:50:58.656Z"
   },
   {
    "duration": 1071,
    "start_time": "2023-08-29T16:51:00.916Z"
   },
   {
    "duration": 1043,
    "start_time": "2023-08-29T16:51:01.989Z"
   },
   {
    "duration": 16,
    "start_time": "2023-08-29T16:51:03.034Z"
   },
   {
    "duration": 10,
    "start_time": "2023-08-29T16:51:03.053Z"
   },
   {
    "duration": 8,
    "start_time": "2023-08-29T16:51:03.065Z"
   },
   {
    "duration": 10,
    "start_time": "2023-08-29T16:51:03.102Z"
   },
   {
    "duration": 13,
    "start_time": "2023-08-29T16:51:03.115Z"
   },
   {
    "duration": 1268,
    "start_time": "2023-08-29T18:44:02.645Z"
   },
   {
    "duration": 5,
    "start_time": "2023-08-29T18:44:03.916Z"
   },
   {
    "duration": 59,
    "start_time": "2023-08-29T18:44:03.923Z"
   },
   {
    "duration": 13,
    "start_time": "2023-08-29T18:44:03.983Z"
   },
   {
    "duration": 56,
    "start_time": "2023-08-29T18:44:04.003Z"
   },
   {
    "duration": 21,
    "start_time": "2023-08-29T18:44:04.060Z"
   },
   {
    "duration": 4,
    "start_time": "2023-08-29T18:44:04.083Z"
   },
   {
    "duration": 21,
    "start_time": "2023-08-29T18:44:04.089Z"
   },
   {
    "duration": 9,
    "start_time": "2023-08-29T18:44:04.112Z"
   },
   {
    "duration": 7,
    "start_time": "2023-08-29T18:44:04.123Z"
   },
   {
    "duration": 220,
    "start_time": "2023-08-29T18:44:04.131Z"
   },
   {
    "duration": 174,
    "start_time": "2023-08-29T18:44:04.352Z"
   },
   {
    "duration": 132,
    "start_time": "2023-08-29T18:44:04.528Z"
   },
   {
    "duration": 238,
    "start_time": "2023-08-29T18:44:04.663Z"
   },
   {
    "duration": 602,
    "start_time": "2023-08-29T18:44:04.904Z"
   },
   {
    "duration": 353,
    "start_time": "2023-08-29T18:44:05.508Z"
   },
   {
    "duration": 626,
    "start_time": "2023-08-29T18:44:05.863Z"
   },
   {
    "duration": 49,
    "start_time": "2023-08-29T18:44:06.491Z"
   },
   {
    "duration": 11,
    "start_time": "2023-08-29T18:44:06.542Z"
   },
   {
    "duration": 1097,
    "start_time": "2023-08-29T18:44:06.555Z"
   },
   {
    "duration": 996,
    "start_time": "2023-08-29T18:44:07.653Z"
   },
   {
    "duration": 958,
    "start_time": "2023-08-29T18:44:08.651Z"
   },
   {
    "duration": 19,
    "start_time": "2023-08-29T18:44:09.611Z"
   },
   {
    "duration": 15,
    "start_time": "2023-08-29T18:44:09.632Z"
   },
   {
    "duration": 21,
    "start_time": "2023-08-29T18:44:09.648Z"
   },
   {
    "duration": 19,
    "start_time": "2023-08-29T18:44:09.671Z"
   },
   {
    "duration": 14,
    "start_time": "2023-08-29T18:44:09.692Z"
   },
   {
    "duration": 176,
    "start_time": "2023-08-29T18:52:05.408Z"
   },
   {
    "duration": 154,
    "start_time": "2023-08-29T18:54:01.436Z"
   },
   {
    "duration": 166,
    "start_time": "2023-08-29T18:54:25.774Z"
   },
   {
    "duration": 321,
    "start_time": "2023-08-29T18:58:44.020Z"
   },
   {
    "duration": 424,
    "start_time": "2023-08-29T18:59:53.534Z"
   },
   {
    "duration": 366,
    "start_time": "2023-08-29T19:01:17.609Z"
   },
   {
    "duration": 97,
    "start_time": "2023-08-29T19:04:31.849Z"
   },
   {
    "duration": 43,
    "start_time": "2023-08-29T19:06:56.117Z"
   },
   {
    "duration": 10,
    "start_time": "2023-08-29T19:14:53.840Z"
   },
   {
    "duration": 20,
    "start_time": "2023-08-29T19:15:30.608Z"
   },
   {
    "duration": 13,
    "start_time": "2023-08-29T19:15:33.650Z"
   },
   {
    "duration": 15,
    "start_time": "2023-08-29T19:17:36.428Z"
   },
   {
    "duration": 24,
    "start_time": "2023-08-29T19:18:40.331Z"
   },
   {
    "duration": 7,
    "start_time": "2023-08-29T19:19:47.296Z"
   },
   {
    "duration": 247,
    "start_time": "2023-08-29T19:26:01.305Z"
   },
   {
    "duration": 4,
    "start_time": "2023-08-29T19:35:05.035Z"
   },
   {
    "duration": 8,
    "start_time": "2023-08-29T19:35:05.042Z"
   },
   {
    "duration": 52,
    "start_time": "2023-08-29T19:35:05.052Z"
   },
   {
    "duration": 25,
    "start_time": "2023-08-29T19:35:05.105Z"
   },
   {
    "duration": 53,
    "start_time": "2023-08-29T19:35:05.132Z"
   },
   {
    "duration": 25,
    "start_time": "2023-08-29T19:35:05.188Z"
   },
   {
    "duration": 7,
    "start_time": "2023-08-29T19:35:05.221Z"
   },
   {
    "duration": 7,
    "start_time": "2023-08-29T19:35:05.229Z"
   },
   {
    "duration": 11,
    "start_time": "2023-08-29T19:35:05.238Z"
   },
   {
    "duration": 12,
    "start_time": "2023-08-29T19:35:05.252Z"
   },
   {
    "duration": 8,
    "start_time": "2023-08-29T19:35:05.266Z"
   },
   {
    "duration": 41,
    "start_time": "2023-08-29T19:35:05.276Z"
   },
   {
    "duration": 206,
    "start_time": "2023-08-29T19:35:05.323Z"
   },
   {
    "duration": 171,
    "start_time": "2023-08-29T19:35:05.531Z"
   },
   {
    "duration": 121,
    "start_time": "2023-08-29T19:35:05.703Z"
   },
   {
    "duration": 215,
    "start_time": "2023-08-29T19:35:05.826Z"
   },
   {
    "duration": 698,
    "start_time": "2023-08-29T19:35:06.043Z"
   },
   {
    "duration": 403,
    "start_time": "2023-08-29T19:35:06.743Z"
   },
   {
    "duration": 563,
    "start_time": "2023-08-29T19:35:07.149Z"
   },
   {
    "duration": 46,
    "start_time": "2023-08-29T19:35:07.718Z"
   },
   {
    "duration": 30,
    "start_time": "2023-08-29T19:35:07.765Z"
   },
   {
    "duration": 1018,
    "start_time": "2023-08-29T19:35:07.810Z"
   },
   {
    "duration": 897,
    "start_time": "2023-08-29T19:35:08.831Z"
   },
   {
    "duration": 1045,
    "start_time": "2023-08-29T19:35:09.730Z"
   },
   {
    "duration": 15,
    "start_time": "2023-08-29T19:35:10.776Z"
   },
   {
    "duration": 46,
    "start_time": "2023-08-29T19:35:10.793Z"
   },
   {
    "duration": 8,
    "start_time": "2023-08-29T19:35:10.842Z"
   },
   {
    "duration": 6,
    "start_time": "2023-08-29T19:35:10.852Z"
   },
   {
    "duration": 8,
    "start_time": "2023-08-29T19:35:10.860Z"
   },
   {
    "duration": 1045,
    "start_time": "2023-08-29T19:40:35.204Z"
   },
   {
    "duration": 3,
    "start_time": "2023-08-29T19:42:28.032Z"
   },
   {
    "duration": 4,
    "start_time": "2023-08-29T19:42:28.037Z"
   },
   {
    "duration": 46,
    "start_time": "2023-08-29T19:42:28.045Z"
   },
   {
    "duration": 12,
    "start_time": "2023-08-29T19:42:28.093Z"
   },
   {
    "duration": 54,
    "start_time": "2023-08-29T19:42:28.107Z"
   },
   {
    "duration": 21,
    "start_time": "2023-08-29T19:42:28.163Z"
   },
   {
    "duration": 14,
    "start_time": "2023-08-29T19:42:28.186Z"
   },
   {
    "duration": 37,
    "start_time": "2023-08-29T19:42:28.202Z"
   },
   {
    "duration": 24,
    "start_time": "2023-08-29T19:42:28.240Z"
   },
   {
    "duration": 34,
    "start_time": "2023-08-29T19:42:28.267Z"
   },
   {
    "duration": 11,
    "start_time": "2023-08-29T19:42:28.303Z"
   },
   {
    "duration": 18,
    "start_time": "2023-08-29T19:42:28.318Z"
   },
   {
    "duration": 207,
    "start_time": "2023-08-29T19:42:28.337Z"
   },
   {
    "duration": 184,
    "start_time": "2023-08-29T19:42:28.545Z"
   },
   {
    "duration": 117,
    "start_time": "2023-08-29T19:42:28.731Z"
   },
   {
    "duration": 237,
    "start_time": "2023-08-29T19:42:28.850Z"
   },
   {
    "duration": 662,
    "start_time": "2023-08-29T19:42:29.089Z"
   },
   {
    "duration": 375,
    "start_time": "2023-08-29T19:42:29.752Z"
   },
   {
    "duration": 557,
    "start_time": "2023-08-29T19:42:30.130Z"
   },
   {
    "duration": 56,
    "start_time": "2023-08-29T19:42:30.688Z"
   },
   {
    "duration": 52,
    "start_time": "2023-08-29T19:42:30.746Z"
   },
   {
    "duration": 1022,
    "start_time": "2023-08-29T19:42:30.799Z"
   },
   {
    "duration": 1000,
    "start_time": "2023-08-29T19:42:31.825Z"
   },
   {
    "duration": 931,
    "start_time": "2023-08-29T19:42:32.828Z"
   },
   {
    "duration": 14,
    "start_time": "2023-08-29T19:42:33.761Z"
   },
   {
    "duration": 41,
    "start_time": "2023-08-29T19:42:33.776Z"
   },
   {
    "duration": 12,
    "start_time": "2023-08-29T19:42:33.818Z"
   },
   {
    "duration": 27,
    "start_time": "2023-08-29T19:42:33.832Z"
   },
   {
    "duration": 20,
    "start_time": "2023-08-29T19:42:33.860Z"
   },
   {
    "duration": 1278,
    "start_time": "2023-08-29T22:31:29.420Z"
   },
   {
    "duration": 10,
    "start_time": "2023-08-29T22:31:30.700Z"
   },
   {
    "duration": 186,
    "start_time": "2023-08-29T22:31:30.712Z"
   },
   {
    "duration": 18,
    "start_time": "2023-08-29T22:31:30.900Z"
   },
   {
    "duration": 136,
    "start_time": "2023-08-29T22:31:30.921Z"
   },
   {
    "duration": 62,
    "start_time": "2023-08-29T22:31:31.059Z"
   },
   {
    "duration": 42,
    "start_time": "2023-08-29T22:31:31.125Z"
   },
   {
    "duration": 108,
    "start_time": "2023-08-29T22:31:31.169Z"
   },
   {
    "duration": 251,
    "start_time": "2023-08-29T22:31:31.278Z"
   },
   {
    "duration": 42,
    "start_time": "2023-08-29T22:31:31.531Z"
   },
   {
    "duration": 49,
    "start_time": "2023-08-29T22:31:31.575Z"
   },
   {
    "duration": 54,
    "start_time": "2023-08-29T22:31:31.627Z"
   },
   {
    "duration": 375,
    "start_time": "2023-08-29T22:31:31.683Z"
   },
   {
    "duration": 158,
    "start_time": "2023-08-29T22:31:32.062Z"
   },
   {
    "duration": 136,
    "start_time": "2023-08-29T22:31:32.222Z"
   },
   {
    "duration": 296,
    "start_time": "2023-08-29T22:31:32.360Z"
   },
   {
    "duration": 601,
    "start_time": "2023-08-29T22:31:32.658Z"
   },
   {
    "duration": 513,
    "start_time": "2023-08-29T22:31:33.260Z"
   },
   {
    "duration": 605,
    "start_time": "2023-08-29T22:31:33.775Z"
   },
   {
    "duration": 65,
    "start_time": "2023-08-29T22:31:34.382Z"
   },
   {
    "duration": 54,
    "start_time": "2023-08-29T22:31:34.449Z"
   },
   {
    "duration": 1202,
    "start_time": "2023-08-29T22:31:34.505Z"
   },
   {
    "duration": 2069,
    "start_time": "2023-08-29T22:31:35.710Z"
   },
   {
    "duration": 1085,
    "start_time": "2023-08-29T22:31:37.781Z"
   },
   {
    "duration": 14,
    "start_time": "2023-08-29T22:31:38.868Z"
   },
   {
    "duration": 39,
    "start_time": "2023-08-29T22:31:38.884Z"
   },
   {
    "duration": 6,
    "start_time": "2023-08-29T22:31:38.926Z"
   },
   {
    "duration": 38,
    "start_time": "2023-08-29T22:31:38.934Z"
   },
   {
    "duration": 10,
    "start_time": "2023-08-29T22:31:38.974Z"
   },
   {
    "duration": 1337,
    "start_time": "2023-08-29T22:43:20.211Z"
   },
   {
    "duration": 3,
    "start_time": "2023-08-29T22:43:21.551Z"
   },
   {
    "duration": 90,
    "start_time": "2023-08-29T22:43:21.556Z"
   },
   {
    "duration": 14,
    "start_time": "2023-08-29T22:43:21.649Z"
   },
   {
    "duration": 79,
    "start_time": "2023-08-29T22:43:21.666Z"
   },
   {
    "duration": 22,
    "start_time": "2023-08-29T22:43:21.747Z"
   },
   {
    "duration": 5,
    "start_time": "2023-08-29T22:43:21.770Z"
   },
   {
    "duration": 24,
    "start_time": "2023-08-29T22:43:21.777Z"
   },
   {
    "duration": 11,
    "start_time": "2023-08-29T22:43:21.804Z"
   },
   {
    "duration": 20,
    "start_time": "2023-08-29T22:43:21.817Z"
   },
   {
    "duration": 7,
    "start_time": "2023-08-29T22:43:21.838Z"
   },
   {
    "duration": 30,
    "start_time": "2023-08-29T22:43:21.846Z"
   },
   {
    "duration": 209,
    "start_time": "2023-08-29T22:43:21.878Z"
   },
   {
    "duration": 165,
    "start_time": "2023-08-29T22:43:22.091Z"
   },
   {
    "duration": 124,
    "start_time": "2023-08-29T22:43:22.258Z"
   },
   {
    "duration": 228,
    "start_time": "2023-08-29T22:43:22.384Z"
   },
   {
    "duration": 784,
    "start_time": "2023-08-29T22:43:22.614Z"
   },
   {
    "duration": 492,
    "start_time": "2023-08-29T22:43:23.402Z"
   },
   {
    "duration": 638,
    "start_time": "2023-08-29T22:43:23.901Z"
   },
   {
    "duration": 72,
    "start_time": "2023-08-29T22:43:24.541Z"
   },
   {
    "duration": 40,
    "start_time": "2023-08-29T22:43:24.616Z"
   },
   {
    "duration": 1074,
    "start_time": "2023-08-29T22:43:24.658Z"
   },
   {
    "duration": 878,
    "start_time": "2023-08-29T22:43:25.735Z"
   },
   {
    "duration": 928,
    "start_time": "2023-08-29T22:43:26.616Z"
   },
   {
    "duration": 15,
    "start_time": "2023-08-29T22:43:27.545Z"
   },
   {
    "duration": 55,
    "start_time": "2023-08-29T22:43:27.562Z"
   },
   {
    "duration": 73,
    "start_time": "2023-08-29T22:43:27.619Z"
   },
   {
    "duration": 111,
    "start_time": "2023-08-29T22:43:27.694Z"
   },
   {
    "duration": 22,
    "start_time": "2023-08-29T22:43:27.808Z"
   },
   {
    "duration": 1208,
    "start_time": "2023-08-30T05:02:12.704Z"
   },
   {
    "duration": 173,
    "start_time": "2023-08-30T05:03:44.179Z"
   },
   {
    "duration": 118,
    "start_time": "2023-08-30T05:05:34.003Z"
   },
   {
    "duration": 268,
    "start_time": "2023-08-30T05:05:48.372Z"
   }
  ],
  "kernelspec": {
   "display_name": "Python 3 (ipykernel)",
   "language": "python",
   "name": "python3"
  },
  "language_info": {
   "codemirror_mode": {
    "name": "ipython",
    "version": 3
   },
   "file_extension": ".py",
   "mimetype": "text/x-python",
   "name": "python",
   "nbconvert_exporter": "python",
   "pygments_lexer": "ipython3",
   "version": "3.9.18"
  },
  "toc": {
   "base_numbering": 1,
   "nav_menu": {},
   "number_sections": true,
   "sideBar": true,
   "skip_h1_title": true,
   "title_cell": "Table of Contents",
   "title_sidebar": "Contents",
   "toc_cell": false,
   "toc_position": {
    "height": "calc(100% - 180px)",
    "left": "10px",
    "top": "150px",
    "width": "374.391px"
   },
   "toc_section_display": true,
   "toc_window_display": false
  }
 },
 "nbformat": 4,
 "nbformat_minor": 5
}
